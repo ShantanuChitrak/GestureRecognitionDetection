{
 "cells": [
  {
   "cell_type": "markdown",
   "metadata": {
    "colab_type": "text",
    "id": "view-in-github"
   },
   "source": [
    "<a href=\"https://colab.research.google.com/github/spdsp04/Gesture_Recognition/blob/main/Gesture_Recognition.ipynb\" target=\"_parent\"><img src=\"https://colab.research.google.com/assets/colab-badge.svg\" alt=\"Open In Colab\"/></a>"
   ]
  },
  {
   "cell_type": "markdown",
   "metadata": {
    "id": "xgageSzSAAPY"
   },
   "source": [
    "# Gesture Recognition\n",
    "![1607_2716_0 (1)](https://user-images.githubusercontent.com/93203186/172011187-70099885-05f6-4e4a-9dbe-e4db30471f54.jpg)\n",
    "\n",
    "\n",
    "> Imagine working as a data scientist at a home electronics company which manufactures state of the art smart televisions. You want to develop a cool feature in the smart-TV that can recognise five different gestures performed by the user which will help users control the TV without using a remote. \n",
    "> The gestures are continuously monitored by the webcam mounted on the TV. Each gesture corresponds to a specific command:\n",
    "\n",
    "- Left swipe: 'Jump' backwards 10 seconds\n",
    "- Right swipe: 'Jump' forward 10 seconds  \n",
    "- Thumbs up:  Increase the volume\n",
    "- Thumbs down: Decrease the volume\n",
    "- Stop: Pause the movie\n",
    "\n",
    "## Understanding  Dataset\n",
    "> The training data consist of a few hundred videos categorised into one of the five classes. Each video (typically 2-3 seconds long) is divided into a sequence of 30 frames(images). \n",
    ">These videos have been recorded by various people performing one of the five gestures in front of a webcam - similar to what the smart TV will use. \n",
    "\n",
    "> The data is in a zip file. The zip file contains a 'train' and a 'val' folder with two CSV files for the two folders. \n",
    "> These folders are in turn divided into subfolders where each subfolder represents a video of a particular gesture. Each subfolder, i.e. a video, contains 30 frames (or images).\n",
    "> Note that all images in a particular video subfolder have the same dimensions but different videos may have different dimensions. Specifically, videos have two types of dimensions - either 360x360 or 120x160 (depending on the webcam used to record the videos). Hence, you will need to do some pre-processing to standardise the videos. \n",
    "\n",
    "> Each row of the CSV file represents one video and contains three main pieces of information - the name of the subfolder containing the 30 images of the video, the name of the gesture and the numeric label (between 0-4) of the video.\n",
    "\n",
    "> Here task is to train a model on the 'train' folder which performs well on the 'val' folder as well (as usually done in ML projects). We have withheld the test folder for evaluation purposes - your final model's performance will be tested on the 'test' set.\n",
    " \n",
    " ## Goals of the Project\n",
    "\n",
    "> __Generator:__  The generator should be able to take a batch of videos as input without any error. Steps like cropping, resizing and normalization should be performed successfully.\n",
    "\n",
    "> __Model:__ Develop a model that is able to train without any errors which will be judged on the total number of parameters (as the inference(prediction) time should be less) and the accuracy achieved.\n",
    "\n",
    "> __Write up:__ This should contain the detailed procedure followed in choosing the final model. The write up should start with the reason for choosing the base model, then highlight the reasons and metrics taken into consideration to modify and experiment to arrive at the final model. "
   ]
  },
  {
   "cell_type": "code",
   "execution_count": 1,
   "metadata": {
    "id": "HV1B24qwAAPh"
   },
   "outputs": [],
   "source": [
    "# Importing necessary libraries\n",
    "\n",
    "import numpy as np\n",
    "import os\n",
    "from skimage.transform import resize\n",
    "from imageio import imread\n",
    "import datetime\n",
    "import abc\n",
    "from sys import getsizeof\n",
    "\n",
    "import warnings\n",
    "warnings.filterwarnings(\"ignore\")\n"
   ]
  },
  {
   "cell_type": "markdown",
   "metadata": {
    "id": "SXnIoy-6AAPj"
   },
   "source": [
    "We set the random seed so that the results don't vary drastically."
   ]
  },
  {
   "cell_type": "code",
   "execution_count": 2,
   "metadata": {
    "id": "AqvzO1kXAAPk"
   },
   "outputs": [],
   "source": [
    "# Setting seed value\n",
    "\n",
    "np.random.seed(30)\n",
    "import random as rn\n",
    "rn.seed(30)\n",
    "from keras import backend as K\n",
    "import tensorflow as tf\n",
    "tf.random.set_seed(30)"
   ]
  },
  {
   "cell_type": "markdown",
   "metadata": {
    "id": "S6on9TJ1AAPl"
   },
   "source": [
    "## Loading Dataset\n",
    "\n",
    "Loading file for training and validation data.\n",
    "Setting the `batch_size` here."
   ]
  },
  {
   "cell_type": "code",
   "execution_count": 3,
   "metadata": {
    "id": "xCmQ4vKvAAPm"
   },
   "outputs": [],
   "source": [
    "train_doc = np.random.permutation(open('/home/datasets/Project_data/train.csv').readlines())\n",
    "val_doc = np.random.permutation(open('/home/datasets/Project_data/val.csv').readlines())\n",
    "\n"
   ]
  },
  {
   "cell_type": "markdown",
   "metadata": {},
   "source": [
    "### Selecting Batch Size and epochs for all the model."
   ]
  },
  {
   "cell_type": "code",
   "execution_count": 4,
   "metadata": {},
   "outputs": [],
   "source": [
    "num_epochs = 20       # choose the number of epochs\n",
    "batch_size = 40        # choose the number of batch"
   ]
  },
  {
   "cell_type": "markdown",
   "metadata": {
    "id": "qcV1ThlhAAPn"
   },
   "source": [
    "## Generator\n",
    "\n",
    "This is one of the most important part of the code. The overall structure of the generator has been given here. In the generator, we are going to preprocess the images as you have images of 2 different dimensions as well as create a batch of video frames. (We can experiment with `img_idx`, `y`,`z` and normalization until we can get high accuracy)"
   ]
  },
  {
   "cell_type": "code",
   "execution_count": 5,
   "metadata": {
    "id": "RhiT_22XZ8UG"
   },
   "outputs": [],
   "source": [
    "# Defining for Cropping and Resizing images\n",
    "\n",
    "def cropAndResize(image,HEIGHT_DIMENSION,WIDTH_DIMENSION):\n",
    "    # Crop the images and resize.  \n",
    "    # Note that the images are of 2 different shape  &  conv3D will throw error if the inputs in a batch are of different shapes.\n",
    "    # Croping (making aspect ratio same)\n",
    "    \n",
    "    if abs(image.shape[0]-image.shape[1])%2==0 and image.shape[0]!=image.shape[1]:\n",
    "        dimension_diff=abs(image.shape[0]-image.shape[1])\n",
    "        cropping_ratio=dimension_diff//2\n",
    "        if image.shape[0]>image.shape[1]:\n",
    "            image=image[cropping_ratio:image.shape[0]-cropping_ratio,:,:]\n",
    "        elif image.shape[0]<image.shape[1]:\n",
    "            image=image[:,cropping_ratio:image.shape[1]-cropping_ratio,:]\n",
    "                    \n",
    "    # Resizing\n",
    "    if image.shape[0]>120 or image.shape[1]>120:\n",
    "        image=resize(image, (120, 120))\n",
    "    return image"
   ]
  },
  {
   "cell_type": "code",
   "execution_count": 6,
   "metadata": {
    "id": "n1DsomEkAAPq"
   },
   "outputs": [],
   "source": [
    "# Defining Generator function\n",
    "\n",
    "def generator(source_path, folder_list, batch_size):\n",
    "    print( 'Source path = ', source_path, '; batch size =', batch_size)\n",
    "    img_idx = 7,9,10,11,12,13,14,15,16,17,18,19,20,21,22,24 #create a list of image no's you want to use for a particular video\n",
    "    while True:\n",
    "        t = np.random.permutation(folder_list)\n",
    "        num_batches = len(t)//batch_size                 # calculate the number of batches\n",
    "        remaining_batch_size=len(t)%batch_size\n",
    "        for batch in range(num_batches):                 # we iterate over the number of batches\n",
    "            batch_data = np.zeros((batch_size,16,120,120,3)) # x is the no. of images you use for each video,(y,z) is the final size of the input images and 3 is the number of channels RGB\n",
    "            batch_labels = np.zeros((batch_size,5))      # batch_labels is the one hot representation of the output\n",
    "            for folder in range(batch_size):             # iterate over the batch_size\n",
    "                imgs = os.listdir(source_path+'/'+ t[folder + (batch*batch_size)].split(';')[0]) # Read all the images in the folder\n",
    "                for idx,item in enumerate(img_idx):      # Iterate over the frames/images of a folder to read them in\n",
    "                    image = imread(source_path+'/'+ t[folder + (batch*batch_size)].strip().split(';')[0]+'/'+imgs[item]).astype(np.float32)\n",
    "                    \n",
    "                    image_resized = cropAndResize(image,120,120)    \n",
    "                    \n",
    "                    batch_data[folder,idx,:,:,0] = (image_resized[:,:,0])/255         # Normalise and feed in the image\n",
    "                    batch_data[folder,idx,:,:,1] = (image_resized[:,:,1])/255         # Normalise and feed in the image\n",
    "                    batch_data[folder,idx,:,:,2] = (image_resized[:,:,2])/255         # Normalise and feed in the image\n",
    "                    \n",
    "                batch_labels[folder, int(t[folder + (batch*batch_size)].strip().split(';')[2])] = 1\n",
    "            yield batch_data, batch_labels                # you yield the batch_data and the batch_labels\n",
    "            \n",
    "        for batch in range(num_batches,num_batches+1):    # iterate over the number of batches\n",
    "            batch_data = np.zeros((remaining_batch_size*2,16,120,120,3)) # x is the number of images you use for each video, (y,z) is the final size of the input images and 3 is the number of channels RGB\n",
    "            batch_labels = np.zeros((remaining_batch_size*2,5))       # batch_labels is the one hot representation of the output\n",
    "            for folder in range(remaining_batch_size):                # iterate over the batch_size\n",
    "                imgs = os.listdir(source_path+'/'+ t[folder + (batch*batch_size)].split(';')[0]) # read all the images in the folder\n",
    "                for idx,item in enumerate(img_idx): #  Iterate iver the frames/images of a folder to read them in\n",
    "                    image = imread(source_path+'/'+ t[folder + (batch*batch_size)].strip().split(';')[0]+'/'+imgs[item]).astype(np.float32)\n",
    "                    image_resized = cropAndResize(image,120,120)                    \n",
    "                    batch_data[folder,idx,:,:,0] = (image_resized[:,:,0])/255        #normalise and feed in the image\n",
    "                    batch_data[folder,idx,:,:,1] = (image_resized[:,:,1])/255        #normalise and feed in the image\n",
    "                    batch_data[folder,idx,:,:,2] = (image_resized[:,:,2])/255        #normalise and feed in the image\n",
    "                    \n",
    "                batch_labels[folder, int(t[folder + (batch*batch_size)].strip().split(';')[2])] = 1\n",
    "            yield batch_data, batch_labels"
   ]
  },
  {
   "cell_type": "markdown",
   "metadata": {
    "id": "NN5zBck4AAPr"
   },
   "source": [
    "Video is represented above in the generator as (number of images, height, width, number of channels). "
   ]
  },
  {
   "cell_type": "code",
   "execution_count": 7,
   "metadata": {
    "id": "duB78bvpAAPs"
   },
   "outputs": [],
   "source": [
    "# Fuction for plotting results on graph\n",
    "\n",
    "from matplotlib import pyplot as plt\n",
    "def plot(history):\n",
    "    fig, axes = plt.subplots(nrows=1, ncols=2, figsize=(15,4))\n",
    "    axes[0].plot(history.history['loss'])   \n",
    "    axes[0].plot(history.history['val_loss'])\n",
    "    axes[0].legend(['loss','val_loss'])\n",
    "\n",
    "    axes[1].plot(history.history['categorical_accuracy'])   \n",
    "    axes[1].plot(history.history['val_categorical_accuracy'])\n",
    "    axes[1].legend(['categorical_accuracy','val_categorical_accuracy'])"
   ]
  },
  {
   "cell_type": "code",
   "execution_count": 8,
   "metadata": {
    "colab": {
     "base_uri": "https://localhost:8080/"
    },
    "id": "CNkgEzXNAAPt",
    "outputId": "ad7c5324-35ca-452b-f574-ba0bbc1a38ab"
   },
   "outputs": [
    {
     "name": "stdout",
     "output_type": "stream",
     "text": [
      "Training sequences = 663\n",
      "Validation sequences = 100\n",
      "Epochs = 20\n"
     ]
    }
   ],
   "source": [
    "curr_dt_time = datetime.datetime.now()\n",
    "train_path = '/home/datasets/Project_data/train'\n",
    "val_path = '/home/datasets/Project_data/val'\n",
    "num_train_sequences = len(train_doc)\n",
    "print('Training sequences =', num_train_sequences)\n",
    "num_val_sequences = len(val_doc)\n",
    "print('Validation sequences =', num_val_sequences)\n",
    "print ('Epochs =', num_epochs)"
   ]
  },
  {
   "cell_type": "markdown",
   "metadata": {
    "id": "4WUnbIBqAAPu"
   },
   "source": [
    "## Model\n",
    "\n",
    "Design the network in such a way that the model is able to give good accuracy on the least number of parameters."
   ]
  },
  {
   "cell_type": "code",
   "execution_count": 9,
   "metadata": {
    "id": "Kg5IRVosAAPu"
   },
   "outputs": [],
   "source": [
    "from keras.models import Sequential, Model\n",
    "from keras.layers import Dense, GRU, Flatten, TimeDistributed, Flatten, BatchNormalization, Activation,Dropout,GlobalAveragePooling3D,LSTM,GlobalAveragePooling2D\n",
    "from keras.layers.convolutional import Conv3D, MaxPooling3D,Conv2D,MaxPooling2D\n",
    "from keras.callbacks import ModelCheckpoint, ReduceLROnPlateau,EarlyStopping\n",
    "from keras import optimizers\n",
    "\n",
    "img_idx = 7,9,10,11,12,13,14,15,16,17,18,19,20,21,22,24 \n",
    "\n",
    "input_shape = (len(img_idx), 120, 120, 3)\n",
    "\n",
    "np.random.seed(30)"
   ]
  },
  {
   "cell_type": "markdown",
   "metadata": {
    "id": "0xvZo9j0AAPv"
   },
   "source": [
    "### Model 1: Simple Conv3D Model\n"
   ]
  },
  {
   "cell_type": "code",
   "execution_count": 10,
   "metadata": {
    "id": "MtYgigrUAAPv"
   },
   "outputs": [
    {
     "name": "stderr",
     "output_type": "stream",
     "text": [
      "2022-06-15 13:05:04.514525: W tensorflow/core/common_runtime/gpu/gpu_bfc_allocator.cc:39] Overriding allow_growth setting because the TF_FORCE_GPU_ALLOW_GROWTH environment variable is set. Original config value was 0.\n",
      "2022-06-15 13:05:04.514603: I tensorflow/core/common_runtime/gpu/gpu_device.cc:1525] Created device /job:localhost/replica:0/task:0/device:GPU:0 with 14803 MB memory:  -> device: 0, name: Quadro RTX 5000, pci bus id: 0000:1d:00.0, compute capability: 7.5\n"
     ]
    }
   ],
   "source": [
    "model = Sequential()\n",
    "model.add(Conv3D(32, kernel_size=3, activation='relu', input_shape=input_shape))\n",
    "model.add(MaxPooling3D(pool_size=2))\n",
    "\n",
    "model.add(Conv3D(64, kernel_size=3, activation='relu'))\n",
    "model.add(MaxPooling3D(pool_size=2))\n",
    "\n",
    "model.add(Flatten())\n",
    "model.add(Dense(256, activation='relu'))\n",
    "model.add(Dense(5, activation='softmax'))\n",
    "\n",
    "# Total params: 25,749,637, Trainable params: 25,749,637, Non-trainable params: 0"
   ]
  },
  {
   "cell_type": "code",
   "execution_count": 13,
   "metadata": {
    "id": "9oH8iCvAKzsY"
   },
   "outputs": [],
   "source": [
    "# creating the `train_generator` and the `val_generator` which is used in `.fit_generator`.\n",
    "\n",
    "train_generator = generator(train_path, train_doc, batch_size)\n",
    "val_generator = generator(val_path, val_doc, batch_size)\n",
    "\n",
    "\n",
    "model_name = 'model_init' + '_' + str(curr_dt_time).replace(' ','').replace(':','_') + '/'\n",
    "    \n",
    "if not os.path.exists(model_name):\n",
    "    os.mkdir(model_name)\n",
    "        \n",
    "filepath = model_name + 'model-{epoch:05d}-{loss:.5f}-{categorical_accuracy:.5f}-{val_loss:.5f}-{val_categorical_accuracy:.5f}.h5'\n",
    "\n",
    "checkpoint = ModelCheckpoint(filepath, monitor='val_loss', verbose=1, save_best_only=True, save_weights_only=False, mode='auto', save_freq='epoch')\n",
    "\n",
    "LR =ReduceLROnPlateau(monitor='val_loss', factor=0.2, verbose=1, patience=4) # write the REducelronplateau code here\n",
    "\n",
    "earlystop = EarlyStopping( monitor=\"val_loss\", min_delta=0,patience=10,verbose=1)\n",
    "\n",
    "callbacks_list = [checkpoint, LR, earlystop]\n",
    "\n",
    "if (num_train_sequences%batch_size) == 0:\n",
    "    steps_per_epoch = int(num_train_sequences/batch_size)\n",
    "    \n",
    "else:\n",
    "    steps_per_epoch = (num_train_sequences//batch_size) + 1\n",
    "\n",
    "if (num_val_sequences%batch_size) == 0:\n",
    "    validation_steps = int(num_val_sequences/batch_size)\n",
    "    \n",
    "else:\n",
    "    validation_steps = (num_val_sequences//batch_size) + 1\n",
    "\n"
   ]
  },
  {
   "cell_type": "markdown",
   "metadata": {
    "id": "apCFn4NmAAPw"
   },
   "source": [
    "1. Once a model is created, next step is to `compile` the model.\n",
    "2. In the `summary` of the model, we will see the total number of parameters to train the model.\n",
    "2. Creating the `train_generator` and the `val_generator` which will be used in `.fit_generator`.\n",
    "3. `steps_per_epoch` and `validation_steps` are used by `fit_generator` to decide the number of next() calls it need to make.\n",
    "\n",
    "These steps are going to be same for all the model."
   ]
  },
  {
   "cell_type": "code",
   "execution_count": 12,
   "metadata": {
    "colab": {
     "base_uri": "https://localhost:8080/"
    },
    "id": "esrQdvwxLOTg",
    "outputId": "d41b7f0e-850e-4ccd-ce88-258a4b7e1c25"
   },
   "outputs": [
    {
     "name": "stdout",
     "output_type": "stream",
     "text": [
      "Model: \"sequential\"\n",
      "_________________________________________________________________\n",
      " Layer (type)                Output Shape              Param #   \n",
      "=================================================================\n",
      " conv3d (Conv3D)             (None, 14, 118, 118, 32)  2624      \n",
      "                                                                 \n",
      " max_pooling3d (MaxPooling3D  (None, 7, 59, 59, 32)    0         \n",
      " )                                                               \n",
      "                                                                 \n",
      " conv3d_1 (Conv3D)           (None, 5, 57, 57, 64)     55360     \n",
      "                                                                 \n",
      " max_pooling3d_1 (MaxPooling  (None, 2, 28, 28, 64)    0         \n",
      " 3D)                                                             \n",
      "                                                                 \n",
      " flatten (Flatten)           (None, 100352)            0         \n",
      "                                                                 \n",
      " dense (Dense)               (None, 256)               25690368  \n",
      "                                                                 \n",
      " dense_1 (Dense)             (None, 5)                 1285      \n",
      "                                                                 \n",
      "=================================================================\n",
      "Total params: 25,749,637\n",
      "Trainable params: 25,749,637\n",
      "Non-trainable params: 0\n",
      "_________________________________________________________________\n",
      "None\n"
     ]
    }
   ],
   "source": [
    "optimiser =tf.keras.optimizers.Adam() #write your optimizer\n",
    "model.compile(optimizer=optimiser, loss='categorical_crossentropy', metrics=['categorical_accuracy'])\n",
    "print (model.summary())"
   ]
  },
  {
   "cell_type": "code",
   "execution_count": 13,
   "metadata": {
    "colab": {
     "base_uri": "https://localhost:8080/"
    },
    "id": "cQa1YT3fAAPx",
    "outputId": "efa2e90e-080f-463a-92d8-c13821333fc3"
   },
   "outputs": [
    {
     "name": "stdout",
     "output_type": "stream",
     "text": [
      "Source path =  /home/datasets/Project_data/train ; batch size = 40\n",
      "Epoch 1/20\n"
     ]
    },
    {
     "name": "stderr",
     "output_type": "stream",
     "text": [
      "2022-06-15 13:05:09.976887: I tensorflow/stream_executor/cuda/cuda_dnn.cc:377] Loaded cuDNN version 8302\n"
     ]
    },
    {
     "name": "stdout",
     "output_type": "stream",
     "text": [
      "17/17 [==============================] - ETA: 0s - loss: 2.5663 - categorical_accuracy: 0.2099Source path =  /home/datasets/Project_data/val ; batch size = 40\n",
      "\n",
      "Epoch 00001: val_loss improved from inf to 1.28937, saving model to model_init_2022-06-1513_05_03.695847/model-00001-2.56631-0.20991-1.28937-0.21667.h5\n",
      "17/17 [==============================] - 67s 4s/step - loss: 2.5663 - categorical_accuracy: 0.2099 - val_loss: 1.2894 - val_categorical_accuracy: 0.2167 - lr: 0.0010\n",
      "Epoch 2/20\n",
      "17/17 [==============================] - ETA: 0s - loss: 1.3472 - categorical_accuracy: 0.3834\n",
      "Epoch 00002: val_loss improved from 1.28937 to 1.07491, saving model to model_init_2022-06-1513_05_03.695847/model-00002-1.34725-0.38338-1.07491-0.44167.h5\n",
      "17/17 [==============================] - 67s 4s/step - loss: 1.3472 - categorical_accuracy: 0.3834 - val_loss: 1.0749 - val_categorical_accuracy: 0.4417 - lr: 0.0010\n",
      "Epoch 3/20\n",
      "17/17 [==============================] - ETA: 0s - loss: 1.0129 - categorical_accuracy: 0.5700\n",
      "Epoch 00003: val_loss improved from 1.07491 to 0.90639, saving model to model_init_2022-06-1513_05_03.695847/model-00003-1.01285-0.56997-0.90639-0.45000.h5\n",
      "17/17 [==============================] - 63s 4s/step - loss: 1.0129 - categorical_accuracy: 0.5700 - val_loss: 0.9064 - val_categorical_accuracy: 0.4500 - lr: 0.0010\n",
      "Epoch 4/20\n",
      "17/17 [==============================] - ETA: 0s - loss: 0.6914 - categorical_accuracy: 0.7201\n",
      "Epoch 00004: val_loss improved from 0.90639 to 0.82078, saving model to model_init_2022-06-1513_05_03.695847/model-00004-0.69136-0.72012-0.82078-0.55000.h5\n",
      "17/17 [==============================] - 65s 4s/step - loss: 0.6914 - categorical_accuracy: 0.7201 - val_loss: 0.8208 - val_categorical_accuracy: 0.5500 - lr: 0.0010\n",
      "Epoch 5/20\n",
      "17/17 [==============================] - ETA: 0s - loss: 0.4474 - categorical_accuracy: 0.8207\n",
      "Epoch 00005: val_loss did not improve from 0.82078\n",
      "17/17 [==============================] - 63s 4s/step - loss: 0.4474 - categorical_accuracy: 0.8207 - val_loss: 0.9180 - val_categorical_accuracy: 0.6917 - lr: 0.0010\n",
      "Epoch 6/20\n",
      "17/17 [==============================] - ETA: 0s - loss: 0.3591 - categorical_accuracy: 0.8673\n",
      "Epoch 00006: val_loss did not improve from 0.82078\n",
      "17/17 [==============================] - 63s 4s/step - loss: 0.3591 - categorical_accuracy: 0.8673 - val_loss: 1.4652 - val_categorical_accuracy: 0.7167 - lr: 0.0010\n",
      "Epoch 7/20\n",
      "17/17 [==============================] - ETA: 0s - loss: 0.3628 - categorical_accuracy: 0.8965\n",
      "Epoch 00007: val_loss did not improve from 0.82078\n",
      "17/17 [==============================] - 63s 4s/step - loss: 0.3628 - categorical_accuracy: 0.8965 - val_loss: 1.2742 - val_categorical_accuracy: 0.5083 - lr: 0.0010\n",
      "Epoch 8/20\n",
      "17/17 [==============================] - ETA: 0s - loss: 0.4672 - categorical_accuracy: 0.8265\n",
      "Epoch 00008: val_loss did not improve from 0.82078\n",
      "\n",
      "Epoch 00008: ReduceLROnPlateau reducing learning rate to 0.00020000000949949026.\n",
      "17/17 [==============================] - 64s 4s/step - loss: 0.4672 - categorical_accuracy: 0.8265 - val_loss: 1.7452 - val_categorical_accuracy: 0.4667 - lr: 0.0010\n",
      "Epoch 9/20\n",
      "17/17 [==============================] - ETA: 0s - loss: 0.6275 - categorical_accuracy: 0.8338\n",
      "Epoch 00009: val_loss did not improve from 0.82078\n",
      "17/17 [==============================] - 62s 4s/step - loss: 0.6275 - categorical_accuracy: 0.8338 - val_loss: 1.0264 - val_categorical_accuracy: 0.5333 - lr: 2.0000e-04\n",
      "Epoch 10/20\n",
      "17/17 [==============================] - ETA: 0s - loss: 0.1950 - categorical_accuracy: 0.8936\n",
      "Epoch 00010: val_loss did not improve from 0.82078\n",
      "17/17 [==============================] - 63s 4s/step - loss: 0.1950 - categorical_accuracy: 0.8936 - val_loss: 1.0258 - val_categorical_accuracy: 0.5750 - lr: 2.0000e-04\n",
      "Epoch 11/20\n",
      "17/17 [==============================] - ETA: 0s - loss: 0.1853 - categorical_accuracy: 0.9052\n",
      "Epoch 00011: val_loss did not improve from 0.82078\n",
      "17/17 [==============================] - 62s 4s/step - loss: 0.1853 - categorical_accuracy: 0.9052 - val_loss: 1.1200 - val_categorical_accuracy: 0.6250 - lr: 2.0000e-04\n",
      "Epoch 12/20\n",
      "17/17 [==============================] - ETA: 0s - loss: 0.2130 - categorical_accuracy: 0.8965\n",
      "Epoch 00012: val_loss did not improve from 0.82078\n",
      "\n",
      "Epoch 00012: ReduceLROnPlateau reducing learning rate to 4.0000001899898055e-05.\n",
      "17/17 [==============================] - 62s 4s/step - loss: 0.2130 - categorical_accuracy: 0.8965 - val_loss: 1.0233 - val_categorical_accuracy: 0.7750 - lr: 2.0000e-04\n",
      "Epoch 13/20\n",
      "17/17 [==============================] - ETA: 0s - loss: 0.1282 - categorical_accuracy: 0.9723\n",
      "Epoch 00013: val_loss did not improve from 0.82078\n",
      "17/17 [==============================] - 63s 4s/step - loss: 0.1282 - categorical_accuracy: 0.9723 - val_loss: 1.0694 - val_categorical_accuracy: 0.7500 - lr: 4.0000e-05\n",
      "Epoch 14/20\n",
      "17/17 [==============================] - ETA: 0s - loss: 0.0914 - categorical_accuracy: 0.9461\n",
      "Epoch 00014: val_loss did not improve from 0.82078\n",
      "17/17 [==============================] - 64s 4s/step - loss: 0.0914 - categorical_accuracy: 0.9461 - val_loss: 0.9080 - val_categorical_accuracy: 0.5917 - lr: 4.0000e-05\n",
      "Epoch 00014: early stopping\n"
     ]
    }
   ],
   "source": [
    "history=model.fit(train_generator, steps_per_epoch=steps_per_epoch, epochs=num_epochs, verbose=1, \n",
    "                    callbacks=callbacks_list, validation_data=val_generator, \n",
    "                    validation_steps=validation_steps, class_weight=None, workers=1, initial_epoch=0)"
   ]
  },
  {
   "cell_type": "code",
   "execution_count": 14,
   "metadata": {
    "id": "FvMxLdEcNCzl"
   },
   "outputs": [
    {
     "data": {
      "image/png": "[encoded data removed]",
      "text/plain": [
       "<Figure size 1080x288 with 2 Axes>"
      ]
     },
     "metadata": {
      "needs_background": "light"
     },
     "output_type": "display_data"
    }
   ],
   "source": [
    "plot(history)"
   ]
  },
  {
   "cell_type": "markdown",
   "metadata": {},
   "source": [
    "### Model Conclusion\n",
    "\n",
    "#### Model Accuracy on the train set is  94% and on validation set is 59%\n",
    "#### Model is Overfitting"
   ]
  },
  {
   "cell_type": "markdown",
   "metadata": {
    "id": "tCMiw-kFAAPx"
   },
   "source": [
    "### Model 2: Conv3D with BatchNormalization Model\n"
   ]
  },
  {
   "cell_type": "code",
   "execution_count": 47,
   "metadata": {
    "id": "MqK3t5CRAAPx"
   },
   "outputs": [],
   "source": [
    " model = Sequential()\n",
    "\n",
    " model.add(Conv3D(32, kernel_size=3, activation='relu', input_shape=input_shape))\n",
    " model.add(Conv3D(64, kernel_size=3, activation='relu'))\n",
    " model.add(MaxPooling3D(pool_size=(2, 2, 2)))\n",
    " model.add(BatchNormalization())\n",
    "\n",
    " model.add(Conv3D(128, kernel_size=3, activation='relu'))\n",
    " model.add(MaxPooling3D(pool_size=(1, 2, 2)))\n",
    " model.add(BatchNormalization())\n",
    "\n",
    " model.add(Conv3D(256, kernel_size=(1, 3, 3), activation='relu'))\n",
    " model.add(MaxPooling3D(pool_size=(1, 2, 2)))\n",
    " model.add(BatchNormalization())\n",
    " model.add(Conv3D(512, kernel_size=(1, 3, 3), activation='relu'))\n",
    " model.add(Conv3D(512, kernel_size=(1, 3, 3), activation='relu'))\n",
    " model.add(MaxPooling3D(pool_size=(1, 2, 2)))\n",
    " model.add(BatchNormalization())\n",
    "\n",
    " model.add(Flatten())\n",
    " model.add(Dense(512, activation='relu'))\n",
    " model.add(BatchNormalization())\n",
    " model.add(Dense(5, activation='softmax'))\n",
    "    \n",
    " # Total params: 20,900,613,Trainable params: 20,897,669, Non-trainable params: 2,944"
   ]
  },
  {
   "cell_type": "code",
   "execution_count": 48,
   "metadata": {
    "id": "hbyIvTSCNPGZ"
   },
   "outputs": [
    {
     "name": "stdout",
     "output_type": "stream",
     "text": [
      "Model: \"sequential_7\"\n",
      "_________________________________________________________________\n",
      " Layer (type)                Output Shape              Param #   \n",
      "=================================================================\n",
      " conv3d_12 (Conv3D)          (None, 14, 118, 118, 32)  2624      \n",
      "                                                                 \n",
      " conv3d_13 (Conv3D)          (None, 12, 116, 116, 64)  55360     \n",
      "                                                                 \n",
      " max_pooling3d_8 (MaxPooling  (None, 6, 58, 58, 64)    0         \n",
      " 3D)                                                             \n",
      "                                                                 \n",
      " batch_normalization_22 (Bat  (None, 6, 58, 58, 64)    256       \n",
      " chNormalization)                                                \n",
      "                                                                 \n",
      " conv3d_14 (Conv3D)          (None, 4, 56, 56, 128)    221312    \n",
      "                                                                 \n",
      " max_pooling3d_9 (MaxPooling  (None, 4, 28, 28, 128)   0         \n",
      " 3D)                                                             \n",
      "                                                                 \n",
      " batch_normalization_23 (Bat  (None, 4, 28, 28, 128)   512       \n",
      " chNormalization)                                                \n",
      "                                                                 \n",
      " conv3d_15 (Conv3D)          (None, 4, 26, 26, 256)    295168    \n",
      "                                                                 \n",
      " max_pooling3d_10 (MaxPoolin  (None, 4, 13, 13, 256)   0         \n",
      " g3D)                                                            \n",
      "                                                                 \n",
      " batch_normalization_24 (Bat  (None, 4, 13, 13, 256)   1024      \n",
      " chNormalization)                                                \n",
      "                                                                 \n",
      " conv3d_16 (Conv3D)          (None, 4, 11, 11, 512)    1180160   \n",
      "                                                                 \n",
      " conv3d_17 (Conv3D)          (None, 4, 9, 9, 512)      2359808   \n",
      "                                                                 \n",
      " max_pooling3d_11 (MaxPoolin  (None, 4, 4, 4, 512)     0         \n",
      " g3D)                                                            \n",
      "                                                                 \n",
      " batch_normalization_25 (Bat  (None, 4, 4, 4, 512)     2048      \n",
      " chNormalization)                                                \n",
      "                                                                 \n",
      " flatten_5 (Flatten)         (None, 32768)             0         \n",
      "                                                                 \n",
      " dense_14 (Dense)            (None, 512)               16777728  \n",
      "                                                                 \n",
      " batch_normalization_26 (Bat  (None, 512)              2048      \n",
      " chNormalization)                                                \n",
      "                                                                 \n",
      " dense_15 (Dense)            (None, 5)                 2565      \n",
      "                                                                 \n",
      "=================================================================\n",
      "Total params: 20,900,613\n",
      "Trainable params: 20,897,669\n",
      "Non-trainable params: 2,944\n",
      "_________________________________________________________________\n",
      "None\n"
     ]
    }
   ],
   "source": [
    "\n",
    "model_name = 'model_init2' + '_' + str(curr_dt_time).replace(' ','').replace(':','_') + '/'\n",
    "    \n",
    "if not os.path.exists(model_name):\n",
    "    os.mkdir(model_name)\n",
    "        \n",
    "filepath = model_name + 'model-{epoch:05d}-{loss:.5f}-{categorical_accuracy:.5f}-{val_loss:.5f}-{val_categorical_accuracy:.5f}.h5'\n",
    "\n",
    "checkpoint = ModelCheckpoint(filepath, monitor='val_loss', verbose=1, save_best_only=True, save_weights_only=False, mode='auto', save_freq='epoch')\n",
    "\n",
    "LR =ReduceLROnPlateau(monitor='val_loss', factor=0.2, verbose=1, patience=4) # write the REducelronplateau code here\n",
    "earlystop = EarlyStopping( monitor=\"val_loss\", min_delta=0,patience=10,verbose=1)\n",
    "callbacks_list = [checkpoint, LR, earlystop]\n",
    "\n",
    "optimiser =tf.keras.optimizers.Adam() #write your optimizer\n",
    "model.compile(optimizer=optimiser, loss='categorical_crossentropy', metrics=['categorical_accuracy'])\n",
    "print (model.summary())   "
   ]
  },
  {
   "cell_type": "code",
   "execution_count": 49,
   "metadata": {
    "id": "lMGy3jPZAAPy"
   },
   "outputs": [
    {
     "name": "stdout",
     "output_type": "stream",
     "text": [
      "Epoch 1/20\n",
      "17/17 [==============================] - ETA: 0s - loss: 2.6809 - categorical_accuracy: 0.4534\n",
      "Epoch 00001: val_loss improved from inf to 14.88927, saving model to model_init2_2022-06-1513_49_48.394580/model-00001-2.68090-0.45335-14.88927-0.16667.h5\n",
      "17/17 [==============================] - 68s 4s/step - loss: 2.6809 - categorical_accuracy: 0.4534 - val_loss: 14.8893 - val_categorical_accuracy: 0.1667 - lr: 0.0010\n",
      "Epoch 2/20\n",
      "17/17 [==============================] - ETA: 0s - loss: 0.9470 - categorical_accuracy: 0.6501\n",
      "Epoch 00002: val_loss improved from 14.88927 to 5.77232, saving model to model_init2_2022-06-1513_49_48.394580/model-00002-0.94697-0.65015-5.77232-0.22500.h5\n",
      "17/17 [==============================] - 68s 4s/step - loss: 0.9470 - categorical_accuracy: 0.6501 - val_loss: 5.7723 - val_categorical_accuracy: 0.2250 - lr: 0.0010\n",
      "Epoch 3/20\n",
      "17/17 [==============================] - ETA: 0s - loss: 0.6572 - categorical_accuracy: 0.7259\n",
      "Epoch 00003: val_loss improved from 5.77232 to 2.06442, saving model to model_init2_2022-06-1513_49_48.394580/model-00003-0.65715-0.72595-2.06442-0.27500.h5\n",
      "17/17 [==============================] - 67s 4s/step - loss: 0.6572 - categorical_accuracy: 0.7259 - val_loss: 2.0644 - val_categorical_accuracy: 0.2750 - lr: 0.0010\n",
      "Epoch 4/20\n",
      "17/17 [==============================] - ETA: 0s - loss: 0.3865 - categorical_accuracy: 0.8673\n",
      "Epoch 00004: val_loss improved from 2.06442 to 1.95232, saving model to model_init2_2022-06-1513_49_48.394580/model-00004-0.38654-0.86735-1.95232-0.25000.h5\n",
      "17/17 [==============================] - 66s 4s/step - loss: 0.3865 - categorical_accuracy: 0.8673 - val_loss: 1.9523 - val_categorical_accuracy: 0.2500 - lr: 0.0010\n",
      "Epoch 5/20\n",
      "17/17 [==============================] - ETA: 0s - loss: 0.3821 - categorical_accuracy: 0.8324\n",
      "Epoch 00005: val_loss did not improve from 1.95232\n",
      "17/17 [==============================] - 66s 4s/step - loss: 0.3821 - categorical_accuracy: 0.8324 - val_loss: 2.0170 - val_categorical_accuracy: 0.2000 - lr: 0.0010\n",
      "Epoch 6/20\n",
      "17/17 [==============================] - ETA: 0s - loss: 0.3155 - categorical_accuracy: 0.8542\n",
      "Epoch 00006: val_loss did not improve from 1.95232\n",
      "17/17 [==============================] - 67s 4s/step - loss: 0.3155 - categorical_accuracy: 0.8542 - val_loss: 2.9278 - val_categorical_accuracy: 0.1583 - lr: 0.0010\n",
      "Epoch 7/20\n",
      "17/17 [==============================] - ETA: 0s - loss: 0.2329 - categorical_accuracy: 0.9242\n",
      "Epoch 00007: val_loss did not improve from 1.95232\n",
      "17/17 [==============================] - 67s 4s/step - loss: 0.2329 - categorical_accuracy: 0.9242 - val_loss: 3.4731 - val_categorical_accuracy: 0.2167 - lr: 0.0010\n",
      "Epoch 8/20\n",
      "17/17 [==============================] - ETA: 0s - loss: 0.1430 - categorical_accuracy: 0.9155\n",
      "Epoch 00008: val_loss did not improve from 1.95232\n",
      "\n",
      "Epoch 00008: ReduceLROnPlateau reducing learning rate to 0.00020000000949949026.\n",
      "17/17 [==============================] - 64s 4s/step - loss: 0.1430 - categorical_accuracy: 0.9155 - val_loss: 4.7586 - val_categorical_accuracy: 0.1833 - lr: 0.0010\n",
      "Epoch 9/20\n",
      "17/17 [==============================] - ETA: 0s - loss: 0.1032 - categorical_accuracy: 0.9315\n",
      "Epoch 00009: val_loss did not improve from 1.95232\n",
      "17/17 [==============================] - 69s 4s/step - loss: 0.1032 - categorical_accuracy: 0.9315 - val_loss: 2.6754 - val_categorical_accuracy: 0.2250 - lr: 2.0000e-04\n",
      "Epoch 10/20\n",
      "17/17 [==============================] - ETA: 0s - loss: 0.0410 - categorical_accuracy: 0.9592\n",
      "Epoch 00010: val_loss did not improve from 1.95232\n",
      "17/17 [==============================] - 65s 4s/step - loss: 0.0410 - categorical_accuracy: 0.9592 - val_loss: 2.4351 - val_categorical_accuracy: 0.2500 - lr: 2.0000e-04\n",
      "Epoch 11/20\n",
      "17/17 [==============================] - ETA: 0s - loss: 0.0356 - categorical_accuracy: 0.9592\n",
      "Epoch 00011: val_loss did not improve from 1.95232\n",
      "17/17 [==============================] - 65s 4s/step - loss: 0.0356 - categorical_accuracy: 0.9592 - val_loss: 2.6642 - val_categorical_accuracy: 0.2000 - lr: 2.0000e-04\n",
      "Epoch 12/20\n",
      "17/17 [==============================] - ETA: 0s - loss: 0.0239 - categorical_accuracy: 0.9650\n",
      "Epoch 00012: val_loss did not improve from 1.95232\n",
      "\n",
      "Epoch 00012: ReduceLROnPlateau reducing learning rate to 4.0000001899898055e-05.\n",
      "17/17 [==============================] - 68s 4s/step - loss: 0.0239 - categorical_accuracy: 0.9650 - val_loss: 2.6856 - val_categorical_accuracy: 0.1833 - lr: 2.0000e-04\n",
      "Epoch 13/20\n",
      "17/17 [==============================] - ETA: 0s - loss: 0.0433 - categorical_accuracy: 0.9577\n",
      "Epoch 00013: val_loss did not improve from 1.95232\n",
      "17/17 [==============================] - 64s 4s/step - loss: 0.0433 - categorical_accuracy: 0.9577 - val_loss: 2.3317 - val_categorical_accuracy: 0.2417 - lr: 4.0000e-05\n",
      "Epoch 14/20\n",
      "17/17 [==============================] - ETA: 0s - loss: 0.0173 - categorical_accuracy: 0.9621\n",
      "Epoch 00014: val_loss did not improve from 1.95232\n",
      "17/17 [==============================] - 65s 4s/step - loss: 0.0173 - categorical_accuracy: 0.9621 - val_loss: 2.3405 - val_categorical_accuracy: 0.2083 - lr: 4.0000e-05\n",
      "Epoch 00014: early stopping\n"
     ]
    }
   ],
   "source": [
    "history=model.fit(train_generator, steps_per_epoch=steps_per_epoch, epochs=num_epochs, verbose=1, \n",
    "                    callbacks=callbacks_list, validation_data=val_generator, \n",
    "                    validation_steps=validation_steps, class_weight=None, workers=1, initial_epoch=0)"
   ]
  },
  {
   "cell_type": "code",
   "execution_count": 50,
   "metadata": {},
   "outputs": [
    {
     "data": {
      "image/png": "[encoded data removed]",
      "text/plain": [
       "<Figure size 1080x288 with 2 Axes>"
      ]
     },
     "metadata": {
      "needs_background": "light"
     },
     "output_type": "display_data"
    }
   ],
   "source": [
    "plot(history)"
   ]
  },
  {
   "cell_type": "markdown",
   "metadata": {},
   "source": [
    "### Model Conclusion\n",
    "\n",
    "#### Model Accuracy on the train set is  96% and on validation set is 20%\n",
    "#### Model is Overfitting"
   ]
  },
  {
   "cell_type": "markdown",
   "metadata": {
    "id": "COsmXUPqAAPz"
   },
   "source": [
    "### Model 3: Conv3D with BatchNormalization,Dropout\n"
   ]
  },
  {
   "cell_type": "code",
   "execution_count": 15,
   "metadata": {
    "id": "hvG8vHYuAAPz"
   },
   "outputs": [],
   "source": [
    "model = Sequential()\n",
    "\n",
    "model.add(Conv3D(32, kernel_size=3, activation='relu', input_shape=input_shape))\n",
    "model.add(Conv3D(64, kernel_size=3, activation='relu'))\n",
    "model.add(MaxPooling3D(pool_size=(2, 2, 2)))\n",
    "model.add(BatchNormalization())\n",
    "model.add(Dropout(0.25))\n",
    "\n",
    "model.add(Conv3D(128, kernel_size=3, activation='relu'))\n",
    "model.add(MaxPooling3D(pool_size=(1, 2, 2)))\n",
    "model.add(BatchNormalization())\n",
    "model.add(Dropout(0.25))\n",
    "\n",
    "model.add(Conv3D(256, kernel_size=(1, 3, 3), activation='relu'))\n",
    "model.add(MaxPooling3D(pool_size=(1, 2, 2)))\n",
    "model.add(BatchNormalization())\n",
    "model.add(Dropout(0.25))\n",
    "\n",
    "model.add(Conv3D(512, kernel_size=(1, 3, 3), activation='relu'))\n",
    "model.add(Conv3D(512, kernel_size=(1, 3, 3), activation='relu'))\n",
    "model.add(MaxPooling3D(pool_size=(1, 2, 2)))\n",
    "model.add(BatchNormalization())\n",
    "model.add(Dropout(0.5))\n",
    "\n",
    "model.add(Flatten())\n",
    "model.add(Dense(512, activation='relu'))\n",
    "model.add(BatchNormalization())\n",
    "model.add(Dense(5, activation='softmax'))\n",
    "\n",
    "# Total params: 20,900,613 , Trainable params: 20,897,669, Non-trainable params: 2,944"
   ]
  },
  {
   "cell_type": "code",
   "execution_count": 16,
   "metadata": {
    "id": "omtw4m6Zg3Xf"
   },
   "outputs": [
    {
     "name": "stdout",
     "output_type": "stream",
     "text": [
      "Model: \"sequential_1\"\n",
      "_________________________________________________________________\n",
      " Layer (type)                Output Shape              Param #   \n",
      "=================================================================\n",
      " conv3d_6 (Conv3D)           (None, 14, 118, 118, 32)  2624      \n",
      "                                                                 \n",
      " conv3d_7 (Conv3D)           (None, 12, 116, 116, 64)  55360     \n",
      "                                                                 \n",
      " max_pooling3d_4 (MaxPooling  (None, 6, 58, 58, 64)    0         \n",
      " 3D)                                                             \n",
      "                                                                 \n",
      " batch_normalization_5 (Batc  (None, 6, 58, 58, 64)    256       \n",
      " hNormalization)                                                 \n",
      "                                                                 \n",
      " dropout_4 (Dropout)         (None, 6, 58, 58, 64)     0         \n",
      "                                                                 \n",
      " conv3d_8 (Conv3D)           (None, 4, 56, 56, 128)    221312    \n",
      "                                                                 \n",
      " max_pooling3d_5 (MaxPooling  (None, 4, 28, 28, 128)   0         \n",
      " 3D)                                                             \n",
      "                                                                 \n",
      " batch_normalization_6 (Batc  (None, 4, 28, 28, 128)   512       \n",
      " hNormalization)                                                 \n",
      "                                                                 \n",
      " dropout_5 (Dropout)         (None, 4, 28, 28, 128)    0         \n",
      "                                                                 \n",
      " conv3d_9 (Conv3D)           (None, 4, 26, 26, 256)    295168    \n",
      "                                                                 \n",
      " max_pooling3d_6 (MaxPooling  (None, 4, 13, 13, 256)   0         \n",
      " 3D)                                                             \n",
      "                                                                 \n",
      " batch_normalization_7 (Batc  (None, 4, 13, 13, 256)   1024      \n",
      " hNormalization)                                                 \n",
      "                                                                 \n",
      " dropout_6 (Dropout)         (None, 4, 13, 13, 256)    0         \n",
      "                                                                 \n",
      " conv3d_10 (Conv3D)          (None, 4, 11, 11, 512)    1180160   \n",
      "                                                                 \n",
      " conv3d_11 (Conv3D)          (None, 4, 9, 9, 512)      2359808   \n",
      "                                                                 \n",
      " max_pooling3d_7 (MaxPooling  (None, 4, 4, 4, 512)     0         \n",
      " 3D)                                                             \n",
      "                                                                 \n",
      " batch_normalization_8 (Batc  (None, 4, 4, 4, 512)     2048      \n",
      " hNormalization)                                                 \n",
      "                                                                 \n",
      " dropout_7 (Dropout)         (None, 4, 4, 4, 512)      0         \n",
      "                                                                 \n",
      " flatten_1 (Flatten)         (None, 32768)             0         \n",
      "                                                                 \n",
      " dense_2 (Dense)             (None, 512)               16777728  \n",
      "                                                                 \n",
      " batch_normalization_9 (Batc  (None, 512)              2048      \n",
      " hNormalization)                                                 \n",
      "                                                                 \n",
      " dense_3 (Dense)             (None, 5)                 2565      \n",
      "                                                                 \n",
      "=================================================================\n",
      "Total params: 20,900,613\n",
      "Trainable params: 20,897,669\n",
      "Non-trainable params: 2,944\n",
      "_________________________________________________________________\n",
      "None\n"
     ]
    }
   ],
   "source": [
    "\n",
    "model_name = 'model_init3' + '_' + str(curr_dt_time).replace(' ','').replace(':','_') + '/'\n",
    "    \n",
    "if not os.path.exists(model_name):\n",
    "   os.mkdir(model_name)\n",
    "        \n",
    "filepath = model_name + 'model-{epoch:05d}-{loss:.5f}-{categorical_accuracy:.5f}-{val_loss:.5f}-{val_categorical_accuracy:.5f}.h5'\n",
    "\n",
    "checkpoint = ModelCheckpoint(filepath, monitor='val_loss', verbose=1, save_best_only=True, save_weights_only=False, mode='auto', save_freq='epoch')\n",
    "\n",
    "LR =ReduceLROnPlateau(monitor='val_loss', factor=0.2, verbose=1, patience=4) # write the REducelronplateau code here\n",
    "\n",
    "earlystop = EarlyStopping( monitor=\"val_loss\", min_delta=0,patience=10,verbose=1)\n",
    "\n",
    "callbacks_list = [checkpoint, LR, earlystop]\n",
    "\n",
    "optimiser =tf.keras.optimizers.Adam() #write your optimizer\n",
    "model.compile(optimizer=optimiser, loss='categorical_crossentropy', metrics=['categorical_accuracy'])\n",
    "print (model.summary()) "
   ]
  },
  {
   "cell_type": "code",
   "execution_count": 17,
   "metadata": {
    "id": "MQdCRAegAAP0"
   },
   "outputs": [
    {
     "name": "stdout",
     "output_type": "stream",
     "text": [
      "Source path =  /home/datasets/Project_data/train ; batch size = 40\n",
      "Epoch 1/20\n"
     ]
    },
    {
     "name": "stderr",
     "output_type": "stream",
     "text": [
      "2022-06-15 13:51:20.321701: I tensorflow/stream_executor/cuda/cuda_dnn.cc:377] Loaded cuDNN version 8302\n"
     ]
    },
    {
     "name": "stdout",
     "output_type": "stream",
     "text": [
      "17/17 [==============================] - ETA: 0s - loss: 2.2445 - categorical_accuracy: 0.4096Source path =  /home/datasets/Project_data/val ; batch size = 40\n",
      "\n",
      "Epoch 00001: val_loss improved from inf to 3.81319, saving model to model_init3_2022-06-1513_49_48.394580/model-00001-2.24452-0.40962-3.81319-0.17500.h5\n",
      "17/17 [==============================] - 94s 5s/step - loss: 2.2445 - categorical_accuracy: 0.4096 - val_loss: 3.8132 - val_categorical_accuracy: 0.1750 - lr: 0.0010\n",
      "Epoch 2/20\n",
      "17/17 [==============================] - ETA: 0s - loss: 1.0804 - categorical_accuracy: 0.5875\n",
      "Epoch 00002: val_loss improved from 3.81319 to 2.50251, saving model to model_init3_2022-06-1513_49_48.394580/model-00002-1.08040-0.58746-2.50251-0.18333.h5\n",
      "17/17 [==============================] - 72s 4s/step - loss: 1.0804 - categorical_accuracy: 0.5875 - val_loss: 2.5025 - val_categorical_accuracy: 0.1833 - lr: 0.0010\n",
      "Epoch 3/20\n",
      "17/17 [==============================] - ETA: 0s - loss: 0.7802 - categorical_accuracy: 0.6808\n",
      "Epoch 00003: val_loss improved from 2.50251 to 2.42370, saving model to model_init3_2022-06-1513_49_48.394580/model-00003-0.78022-0.68076-2.42370-0.19167.h5\n",
      "17/17 [==============================] - 65s 4s/step - loss: 0.7802 - categorical_accuracy: 0.6808 - val_loss: 2.4237 - val_categorical_accuracy: 0.1917 - lr: 0.0010\n",
      "Epoch 4/20\n",
      "17/17 [==============================] - ETA: 0s - loss: 0.6438 - categorical_accuracy: 0.7143\n",
      "Epoch 00004: val_loss improved from 2.42370 to 2.20215, saving model to model_init3_2022-06-1513_49_48.394580/model-00004-0.64376-0.71429-2.20215-0.15833.h5\n",
      "17/17 [==============================] - 66s 4s/step - loss: 0.6438 - categorical_accuracy: 0.7143 - val_loss: 2.2021 - val_categorical_accuracy: 0.1583 - lr: 0.0010\n",
      "Epoch 5/20\n",
      "17/17 [==============================] - ETA: 0s - loss: 0.5279 - categorical_accuracy: 0.7915\n",
      "Epoch 00005: val_loss improved from 2.20215 to 2.05012, saving model to model_init3_2022-06-1513_49_48.394580/model-00005-0.52793-0.79155-2.05012-0.28333.h5\n",
      "17/17 [==============================] - 66s 4s/step - loss: 0.5279 - categorical_accuracy: 0.7915 - val_loss: 2.0501 - val_categorical_accuracy: 0.2833 - lr: 0.0010\n",
      "Epoch 6/20\n",
      "17/17 [==============================] - ETA: 0s - loss: 0.4152 - categorical_accuracy: 0.8120\n",
      "Epoch 00006: val_loss did not improve from 2.05012\n",
      "17/17 [==============================] - 64s 4s/step - loss: 0.4152 - categorical_accuracy: 0.8120 - val_loss: 3.8208 - val_categorical_accuracy: 0.2083 - lr: 0.0010\n",
      "Epoch 7/20\n",
      "17/17 [==============================] - ETA: 0s - loss: 0.4025 - categorical_accuracy: 0.8309\n",
      "Epoch 00007: val_loss did not improve from 2.05012\n",
      "17/17 [==============================] - 66s 4s/step - loss: 0.4025 - categorical_accuracy: 0.8309 - val_loss: 2.3989 - val_categorical_accuracy: 0.1333 - lr: 0.0010\n",
      "Epoch 8/20\n",
      "17/17 [==============================] - ETA: 0s - loss: 0.3354 - categorical_accuracy: 0.8528\n",
      "Epoch 00008: val_loss improved from 2.05012 to 2.02712, saving model to model_init3_2022-06-1513_49_48.394580/model-00008-0.33542-0.85277-2.02712-0.17500.h5\n",
      "17/17 [==============================] - 69s 4s/step - loss: 0.3354 - categorical_accuracy: 0.8528 - val_loss: 2.0271 - val_categorical_accuracy: 0.1750 - lr: 0.0010\n",
      "Epoch 9/20\n",
      "17/17 [==============================] - ETA: 0s - loss: 0.2856 - categorical_accuracy: 0.8761\n",
      "Epoch 00009: val_loss did not improve from 2.02712\n",
      "17/17 [==============================] - 67s 4s/step - loss: 0.2856 - categorical_accuracy: 0.8761 - val_loss: 2.6407 - val_categorical_accuracy: 0.2417 - lr: 0.0010\n",
      "Epoch 10/20\n",
      "17/17 [==============================] - ETA: 0s - loss: 0.2348 - categorical_accuracy: 0.8848\n",
      "Epoch 00010: val_loss did not improve from 2.02712\n",
      "17/17 [==============================] - 69s 4s/step - loss: 0.2348 - categorical_accuracy: 0.8848 - val_loss: 2.3528 - val_categorical_accuracy: 0.2500 - lr: 0.0010\n",
      "Epoch 11/20\n",
      "17/17 [==============================] - ETA: 0s - loss: 0.1709 - categorical_accuracy: 0.9067\n",
      "Epoch 00011: val_loss did not improve from 2.02712\n",
      "17/17 [==============================] - 65s 4s/step - loss: 0.1709 - categorical_accuracy: 0.9067 - val_loss: 2.7892 - val_categorical_accuracy: 0.1917 - lr: 0.0010\n",
      "Epoch 12/20\n",
      "17/17 [==============================] - ETA: 0s - loss: 0.1535 - categorical_accuracy: 0.9169\n",
      "Epoch 00012: val_loss did not improve from 2.02712\n",
      "\n",
      "Epoch 00012: ReduceLROnPlateau reducing learning rate to 0.00020000000949949026.\n",
      "17/17 [==============================] - 66s 4s/step - loss: 0.1535 - categorical_accuracy: 0.9169 - val_loss: 4.1572 - val_categorical_accuracy: 0.1250 - lr: 0.0010\n",
      "Epoch 13/20\n",
      "17/17 [==============================] - ETA: 0s - loss: 0.1042 - categorical_accuracy: 0.9636\n",
      "Epoch 00013: val_loss did not improve from 2.02712\n",
      "17/17 [==============================] - 69s 4s/step - loss: 0.1042 - categorical_accuracy: 0.9636 - val_loss: 3.5421 - val_categorical_accuracy: 0.2000 - lr: 2.0000e-04\n",
      "Epoch 14/20\n",
      "17/17 [==============================] - ETA: 0s - loss: 0.0758 - categorical_accuracy: 0.9475\n",
      "Epoch 00014: val_loss did not improve from 2.02712\n",
      "17/17 [==============================] - 67s 4s/step - loss: 0.0758 - categorical_accuracy: 0.9475 - val_loss: 3.7432 - val_categorical_accuracy: 0.1500 - lr: 2.0000e-04\n",
      "Epoch 15/20\n",
      "17/17 [==============================] - ETA: 0s - loss: 0.0549 - categorical_accuracy: 0.9650\n",
      "Epoch 00015: val_loss did not improve from 2.02712\n",
      "17/17 [==============================] - 68s 4s/step - loss: 0.0549 - categorical_accuracy: 0.9650 - val_loss: 3.4232 - val_categorical_accuracy: 0.1583 - lr: 2.0000e-04\n",
      "Epoch 16/20\n",
      "17/17 [==============================] - ETA: 0s - loss: 0.0483 - categorical_accuracy: 0.9606\n",
      "Epoch 00016: val_loss did not improve from 2.02712\n",
      "\n",
      "Epoch 00016: ReduceLROnPlateau reducing learning rate to 4.0000001899898055e-05.\n",
      "17/17 [==============================] - 64s 4s/step - loss: 0.0483 - categorical_accuracy: 0.9606 - val_loss: 3.5500 - val_categorical_accuracy: 0.1583 - lr: 2.0000e-04\n",
      "Epoch 17/20\n",
      "17/17 [==============================] - ETA: 0s - loss: 0.0449 - categorical_accuracy: 0.9708\n",
      "Epoch 00017: val_loss did not improve from 2.02712\n",
      "17/17 [==============================] - 63s 4s/step - loss: 0.0449 - categorical_accuracy: 0.9708 - val_loss: 3.2297 - val_categorical_accuracy: 0.2083 - lr: 4.0000e-05\n",
      "Epoch 18/20\n",
      "17/17 [==============================] - ETA: 0s - loss: 0.0469 - categorical_accuracy: 0.9738\n",
      "Epoch 00018: val_loss did not improve from 2.02712\n",
      "17/17 [==============================] - 66s 4s/step - loss: 0.0469 - categorical_accuracy: 0.9738 - val_loss: 3.4171 - val_categorical_accuracy: 0.1833 - lr: 4.0000e-05\n",
      "Epoch 00018: early stopping\n"
     ]
    }
   ],
   "source": [
    "history=model.fit(train_generator, steps_per_epoch=steps_per_epoch, epochs=num_epochs, verbose=1, \n",
    "                   callbacks=callbacks_list, validation_data=val_generator, \n",
    "                   validation_steps=validation_steps, class_weight=None, workers=1, initial_epoch=0)"
   ]
  },
  {
   "cell_type": "code",
   "execution_count": 18,
   "metadata": {
    "id": "XVgHyysFhIsd"
   },
   "outputs": [
    {
     "data": {
      "image/png": "[encoded data removed]",
      "text/plain": [
       "<Figure size 1080x288 with 2 Axes>"
      ]
     },
     "metadata": {
      "needs_background": "light"
     },
     "output_type": "display_data"
    }
   ],
   "source": [
    "plot(history)"
   ]
  },
  {
   "cell_type": "markdown",
   "metadata": {},
   "source": [
    "### Model Conclusion\n",
    "\n",
    "#### Model Accuracy on the train set is  97% and on validation set is 18%\n",
    "#### Model is Overfitting"
   ]
  },
  {
   "cell_type": "markdown",
   "metadata": {},
   "source": [
    "### LSTM MODELS"
   ]
  },
  {
   "cell_type": "markdown",
   "metadata": {
    "id": "TcoKkxjXAAP2"
   },
   "source": [
    "### Model 4: Conv 2D + LSTM\n"
   ]
  },
  {
   "cell_type": "code",
   "execution_count": 20,
   "metadata": {
    "id": "dVY_B7KiAAP2"
   },
   "outputs": [],
   "source": [
    "model = Sequential()\n",
    "model.add(TimeDistributed(Conv2D(32, (3,3), activation='relu'), input_shape=input_shape))\n",
    "model.add(TimeDistributed(MaxPooling2D((2,2))))\n",
    "model.add(BatchNormalization())\n",
    "model.add(Dropout(0.25))\n",
    "\n",
    "model.add(TimeDistributed(Conv2D(64, (3,3), activation='relu')))\n",
    "model.add(TimeDistributed(MaxPooling2D((2,2))))\n",
    "model.add(BatchNormalization())\n",
    "model.add(Dropout(0.25))\n",
    "\n",
    "model.add(TimeDistributed(GlobalAveragePooling2D()))\n",
    "model.add(TimeDistributed(Dense(64, activation='relu')))\n",
    "model.add(BatchNormalization())\n",
    "model.add(Dropout(0.25))\n",
    "\n",
    "model.add(LSTM(128))\n",
    "model.add(BatchNormalization())\n",
    "model.add(Dense(5, activation='softmax'))\n",
    "\n",
    "#Total params: 124,165, Trainable params: 123,589, Non-trainable params: 576\n"
   ]
  },
  {
   "cell_type": "code",
   "execution_count": 21,
   "metadata": {
    "id": "1tOEtt3-hbi-"
   },
   "outputs": [
    {
     "name": "stdout",
     "output_type": "stream",
     "text": [
      "Model: \"sequential_2\"\n",
      "_________________________________________________________________\n",
      " Layer (type)                Output Shape              Param #   \n",
      "=================================================================\n",
      " time_distributed (TimeDistr  (None, 16, 118, 118, 32)  896      \n",
      " ibuted)                                                         \n",
      "                                                                 \n",
      " time_distributed_1 (TimeDis  (None, 16, 59, 59, 32)   0         \n",
      " tributed)                                                       \n",
      "                                                                 \n",
      " batch_normalization_10 (Bat  (None, 16, 59, 59, 32)   128       \n",
      " chNormalization)                                                \n",
      "                                                                 \n",
      " dropout_8 (Dropout)         (None, 16, 59, 59, 32)    0         \n",
      "                                                                 \n",
      " time_distributed_2 (TimeDis  (None, 16, 57, 57, 64)   18496     \n",
      " tributed)                                                       \n",
      "                                                                 \n",
      " time_distributed_3 (TimeDis  (None, 16, 28, 28, 64)   0         \n",
      " tributed)                                                       \n",
      "                                                                 \n",
      " batch_normalization_11 (Bat  (None, 16, 28, 28, 64)   256       \n",
      " chNormalization)                                                \n",
      "                                                                 \n",
      " dropout_9 (Dropout)         (None, 16, 28, 28, 64)    0         \n",
      "                                                                 \n",
      " time_distributed_4 (TimeDis  (None, 16, 64)           0         \n",
      " tributed)                                                       \n",
      "                                                                 \n",
      " time_distributed_5 (TimeDis  (None, 16, 64)           4160      \n",
      " tributed)                                                       \n",
      "                                                                 \n",
      " batch_normalization_12 (Bat  (None, 16, 64)           256       \n",
      " chNormalization)                                                \n",
      "                                                                 \n",
      " dropout_10 (Dropout)        (None, 16, 64)            0         \n",
      "                                                                 \n",
      " lstm (LSTM)                 (None, 128)               98816     \n",
      "                                                                 \n",
      " batch_normalization_13 (Bat  (None, 128)              512       \n",
      " chNormalization)                                                \n",
      "                                                                 \n",
      " dense_5 (Dense)             (None, 5)                 645       \n",
      "                                                                 \n",
      "=================================================================\n",
      "Total params: 124,165\n",
      "Trainable params: 123,589\n",
      "Non-trainable params: 576\n",
      "_________________________________________________________________\n",
      "None\n"
     ]
    }
   ],
   "source": [
    "\n",
    "model_name = 'model_init4' + '_' + str(curr_dt_time).replace(' ','').replace(':','_') + '/'\n",
    "    \n",
    "if not os.path.exists(model_name):\n",
    "    os.mkdir(model_name)\n",
    "        \n",
    "filepath = model_name + 'model-{epoch:05d}-{loss:.5f}-{categorical_accuracy:.5f}-{val_loss:.5f}-{val_categorical_accuracy:.5f}.h5'\n",
    "\n",
    "checkpoint = ModelCheckpoint(filepath, monitor='val_loss', verbose=1, save_best_only=True, save_weights_only=False, mode='auto', save_freq='epoch')\n",
    "\n",
    "LR =ReduceLROnPlateau(monitor='val_loss', factor=0.2, verbose=1, patience=4) # write the REducelronplateau code here\n",
    "\n",
    "earlystop = EarlyStopping( monitor=\"val_loss\", min_delta=0,patience=10,verbose=1)\n",
    "\n",
    "callbacks_list = [checkpoint, LR, earlystop]\n",
    "\n",
    "optimiser =tf.keras.optimizers.Adam() #write your optimizer\n",
    "model.compile(optimizer=optimiser, loss='categorical_crossentropy', metrics=['categorical_accuracy'])\n",
    "print (model.summary()) "
   ]
  },
  {
   "cell_type": "code",
   "execution_count": 22,
   "metadata": {
    "id": "B_mKuNNLAAP2"
   },
   "outputs": [
    {
     "name": "stdout",
     "output_type": "stream",
     "text": [
      "Epoch 1/20\n",
      "17/17 [==============================] - ETA: 0s - loss: 1.4569 - categorical_accuracy: 0.3921\n",
      "Epoch 00001: val_loss improved from inf to 1.33774, saving model to model_init4_2022-06-1513_49_48.394580/model-00001-1.45686-0.39213-1.33774-0.16667.h5\n",
      "17/17 [==============================] - 72s 4s/step - loss: 1.4569 - categorical_accuracy: 0.3921 - val_loss: 1.3377 - val_categorical_accuracy: 0.1667 - lr: 0.0010\n",
      "Epoch 2/20\n",
      "17/17 [==============================] - ETA: 0s - loss: 1.1286 - categorical_accuracy: 0.5000\n",
      "Epoch 00002: val_loss improved from 1.33774 to 1.32676, saving model to model_init4_2022-06-1513_49_48.394580/model-00002-1.12858-0.50000-1.32676-0.21667.h5\n",
      "17/17 [==============================] - 67s 4s/step - loss: 1.1286 - categorical_accuracy: 0.5000 - val_loss: 1.3268 - val_categorical_accuracy: 0.2167 - lr: 0.0010\n",
      "Epoch 3/20\n",
      "17/17 [==============================] - ETA: 0s - loss: 0.9585 - categorical_accuracy: 0.5700\n",
      "Epoch 00003: val_loss did not improve from 1.32676\n",
      "17/17 [==============================] - 67s 4s/step - loss: 0.9585 - categorical_accuracy: 0.5700 - val_loss: 1.3347 - val_categorical_accuracy: 0.1917 - lr: 0.0010\n",
      "Epoch 4/20\n",
      "17/17 [==============================] - ETA: 0s - loss: 0.8258 - categorical_accuracy: 0.6181\n",
      "Epoch 00004: val_loss did not improve from 1.32676\n",
      "17/17 [==============================] - 65s 4s/step - loss: 0.8258 - categorical_accuracy: 0.6181 - val_loss: 1.3356 - val_categorical_accuracy: 0.1833 - lr: 0.0010\n",
      "Epoch 5/20\n",
      "17/17 [==============================] - ETA: 0s - loss: 0.7376 - categorical_accuracy: 0.6997\n",
      "Epoch 00005: val_loss improved from 1.32676 to 1.31435, saving model to model_init4_2022-06-1513_49_48.394580/model-00005-0.73759-0.69971-1.31435-0.20833.h5\n",
      "17/17 [==============================] - 66s 4s/step - loss: 0.7376 - categorical_accuracy: 0.6997 - val_loss: 1.3143 - val_categorical_accuracy: 0.2083 - lr: 0.0010\n",
      "Epoch 6/20\n",
      "17/17 [==============================] - ETA: 0s - loss: 0.6741 - categorical_accuracy: 0.7085\n",
      "Epoch 00006: val_loss did not improve from 1.31435\n",
      "17/17 [==============================] - 66s 4s/step - loss: 0.6741 - categorical_accuracy: 0.7085 - val_loss: 1.3922 - val_categorical_accuracy: 0.1667 - lr: 0.0010\n",
      "Epoch 7/20\n",
      "17/17 [==============================] - ETA: 0s - loss: 0.6259 - categorical_accuracy: 0.7187\n",
      "Epoch 00007: val_loss did not improve from 1.31435\n",
      "17/17 [==============================] - 67s 4s/step - loss: 0.6259 - categorical_accuracy: 0.7187 - val_loss: 1.3360 - val_categorical_accuracy: 0.1750 - lr: 0.0010\n",
      "Epoch 8/20\n",
      "17/17 [==============================] - ETA: 0s - loss: 0.6130 - categorical_accuracy: 0.7682\n",
      "Epoch 00008: val_loss did not improve from 1.31435\n",
      "17/17 [==============================] - 68s 4s/step - loss: 0.6130 - categorical_accuracy: 0.7682 - val_loss: 1.4185 - val_categorical_accuracy: 0.1667 - lr: 0.0010\n",
      "Epoch 9/20\n",
      "17/17 [==============================] - ETA: 0s - loss: 0.5364 - categorical_accuracy: 0.7741\n",
      "Epoch 00009: val_loss did not improve from 1.31435\n",
      "\n",
      "Epoch 00009: ReduceLROnPlateau reducing learning rate to 0.00020000000949949026.\n",
      "17/17 [==============================] - 66s 4s/step - loss: 0.5364 - categorical_accuracy: 0.7741 - val_loss: 1.4089 - val_categorical_accuracy: 0.1750 - lr: 0.0010\n",
      "Epoch 10/20\n",
      "17/17 [==============================] - ETA: 0s - loss: 0.4681 - categorical_accuracy: 0.7930\n",
      "Epoch 00010: val_loss did not improve from 1.31435\n",
      "17/17 [==============================] - 67s 4s/step - loss: 0.4681 - categorical_accuracy: 0.7930 - val_loss: 1.5618 - val_categorical_accuracy: 0.1750 - lr: 2.0000e-04\n",
      "Epoch 11/20\n",
      "17/17 [==============================] - ETA: 0s - loss: 0.4522 - categorical_accuracy: 0.8032\n",
      "Epoch 00011: val_loss did not improve from 1.31435\n",
      "17/17 [==============================] - 65s 4s/step - loss: 0.4522 - categorical_accuracy: 0.8032 - val_loss: 1.6155 - val_categorical_accuracy: 0.2167 - lr: 2.0000e-04\n",
      "Epoch 12/20\n",
      "17/17 [==============================] - ETA: 0s - loss: 0.4099 - categorical_accuracy: 0.8382\n",
      "Epoch 00012: val_loss did not improve from 1.31435\n",
      "17/17 [==============================] - 65s 4s/step - loss: 0.4099 - categorical_accuracy: 0.8382 - val_loss: 1.8396 - val_categorical_accuracy: 0.1583 - lr: 2.0000e-04\n",
      "Epoch 13/20\n",
      "17/17 [==============================] - ETA: 0s - loss: 0.3773 - categorical_accuracy: 0.8469\n",
      "Epoch 00013: val_loss did not improve from 1.31435\n",
      "\n",
      "Epoch 00013: ReduceLROnPlateau reducing learning rate to 4.0000001899898055e-05.\n",
      "17/17 [==============================] - 70s 4s/step - loss: 0.3773 - categorical_accuracy: 0.8469 - val_loss: 1.9719 - val_categorical_accuracy: 0.1750 - lr: 2.0000e-04\n",
      "Epoch 14/20\n",
      "17/17 [==============================] - ETA: 0s - loss: 0.3541 - categorical_accuracy: 0.8601\n",
      "Epoch 00014: val_loss did not improve from 1.31435\n",
      "17/17 [==============================] - 67s 4s/step - loss: 0.3541 - categorical_accuracy: 0.8601 - val_loss: 1.9957 - val_categorical_accuracy: 0.2000 - lr: 4.0000e-05\n",
      "Epoch 15/20\n",
      "17/17 [==============================] - ETA: 0s - loss: 0.3570 - categorical_accuracy: 0.8528\n",
      "Epoch 00015: val_loss did not improve from 1.31435\n",
      "17/17 [==============================] - 65s 4s/step - loss: 0.3570 - categorical_accuracy: 0.8528 - val_loss: 2.2336 - val_categorical_accuracy: 0.1750 - lr: 4.0000e-05\n",
      "Epoch 00015: early stopping\n"
     ]
    }
   ],
   "source": [
    " history=model.fit(train_generator, steps_per_epoch=steps_per_epoch, epochs=num_epochs, verbose=1, \n",
    "                    callbacks=callbacks_list, validation_data=val_generator, \n",
    "                    validation_steps=validation_steps, class_weight=None, workers=1, initial_epoch=0)"
   ]
  },
  {
   "cell_type": "code",
   "execution_count": 23,
   "metadata": {
    "id": "vyxBpsGMAAP3"
   },
   "outputs": [
    {
     "data": {
      "image/png": "[encoded data removed]",
      "text/plain": [
       "<Figure size 1080x288 with 2 Axes>"
      ]
     },
     "metadata": {
      "needs_background": "light"
     },
     "output_type": "display_data"
    }
   ],
   "source": [
    "plot(history)"
   ]
  },
  {
   "cell_type": "markdown",
   "metadata": {},
   "source": [
    "### Model Conclusion\n",
    "\n",
    "#### Model Accuracy on the train set is  85% and on validation set is 17%\n",
    "#### Model is Overfitting"
   ]
  },
  {
   "cell_type": "markdown",
   "metadata": {
    "id": "GgzywbamAAP3"
   },
   "source": [
    "### Model 5: Conv2D + GRU\n"
   ]
  },
  {
   "cell_type": "code",
   "execution_count": 25,
   "metadata": {
    "id": "k_SCW-lKAAP4"
   },
   "outputs": [],
   "source": [
    " model = Sequential()\n",
    " model.add(TimeDistributed(Conv2D(32, (3,3), activation='relu'), input_shape=input_shape))\n",
    " model.add(TimeDistributed(MaxPooling2D((2,2))))\n",
    " model.add(BatchNormalization())\n",
    " model.add(Dropout(0.2))\n",
    "\n",
    " model.add(TimeDistributed(Conv2D(64, (3,3), activation='relu')))\n",
    " model.add(TimeDistributed(MaxPooling2D((2,2))))\n",
    " model.add(BatchNormalization())\n",
    " model.add(Dropout(0.2))\n",
    "\n",
    " model.add(TimeDistributed(GlobalAveragePooling2D()))\n",
    " model.add(TimeDistributed(Dense(64, activation='relu')))\n",
    " model.add(BatchNormalization())\n",
    " model.add(Dropout(0.2))\n",
    "\n",
    " model.add(GRU(128))\n",
    " model.add(BatchNormalization())\n",
    " model.add(Dense(5, activation='softmax'))\n",
    "\n",
    "# Total params: 99,845, Trainable params: 99,269, Non-trainable params: 576\n"
   ]
  },
  {
   "cell_type": "code",
   "execution_count": 26,
   "metadata": {
    "id": "gk_OFqcch4N0"
   },
   "outputs": [
    {
     "name": "stdout",
     "output_type": "stream",
     "text": [
      "Model: \"sequential_3\"\n",
      "_________________________________________________________________\n",
      " Layer (type)                Output Shape              Param #   \n",
      "=================================================================\n",
      " time_distributed_6 (TimeDis  (None, 16, 118, 118, 32)  896      \n",
      " tributed)                                                       \n",
      "                                                                 \n",
      " time_distributed_7 (TimeDis  (None, 16, 59, 59, 32)   0         \n",
      " tributed)                                                       \n",
      "                                                                 \n",
      " batch_normalization_14 (Bat  (None, 16, 59, 59, 32)   128       \n",
      " chNormalization)                                                \n",
      "                                                                 \n",
      " dropout_11 (Dropout)        (None, 16, 59, 59, 32)    0         \n",
      "                                                                 \n",
      " time_distributed_8 (TimeDis  (None, 16, 57, 57, 64)   18496     \n",
      " tributed)                                                       \n",
      "                                                                 \n",
      " time_distributed_9 (TimeDis  (None, 16, 28, 28, 64)   0         \n",
      " tributed)                                                       \n",
      "                                                                 \n",
      " batch_normalization_15 (Bat  (None, 16, 28, 28, 64)   256       \n",
      " chNormalization)                                                \n",
      "                                                                 \n",
      " dropout_12 (Dropout)        (None, 16, 28, 28, 64)    0         \n",
      "                                                                 \n",
      " time_distributed_10 (TimeDi  (None, 16, 64)           0         \n",
      " stributed)                                                      \n",
      "                                                                 \n",
      " time_distributed_11 (TimeDi  (None, 16, 64)           4160      \n",
      " stributed)                                                      \n",
      "                                                                 \n",
      " batch_normalization_16 (Bat  (None, 16, 64)           256       \n",
      " chNormalization)                                                \n",
      "                                                                 \n",
      " dropout_13 (Dropout)        (None, 16, 64)            0         \n",
      "                                                                 \n",
      " gru (GRU)                   (None, 128)               74496     \n",
      "                                                                 \n",
      " batch_normalization_17 (Bat  (None, 128)              512       \n",
      " chNormalization)                                                \n",
      "                                                                 \n",
      " dense_7 (Dense)             (None, 5)                 645       \n",
      "                                                                 \n",
      "=================================================================\n",
      "Total params: 99,845\n",
      "Trainable params: 99,269\n",
      "Non-trainable params: 576\n",
      "_________________________________________________________________\n",
      "None\n"
     ]
    }
   ],
   "source": [
    "\n",
    "model_name = 'model_init5' + '_' + str(curr_dt_time).replace(' ','').replace(':','_') + '/'\n",
    "    \n",
    "if not os.path.exists(model_name):\n",
    "    os.mkdir(model_name)\n",
    "        \n",
    "filepath = model_name + 'model-{epoch:05d}-{loss:.5f}-{categorical_accuracy:.5f}-{val_loss:.5f}-{val_categorical_accuracy:.5f}.h5'\n",
    "\n",
    "checkpoint = ModelCheckpoint(filepath, monitor='val_loss', verbose=1, save_best_only=True, save_weights_only=False, mode='auto', save_freq='epoch')\n",
    "\n",
    "LR =ReduceLROnPlateau(monitor='val_loss', factor=0.2, verbose=1, patience=4) # write the REducelronplateau code here\n",
    "\n",
    "earlystop = EarlyStopping( monitor=\"val_loss\", min_delta=0,patience=10,verbose=1)\n",
    "\n",
    "callbacks_list = [checkpoint, LR, earlystop]\n",
    "\n",
    "optimiser =tf.keras.optimizers.Adam() #write your optimizer\n",
    "model.compile(optimizer=optimiser, loss='categorical_crossentropy', metrics=['categorical_accuracy'])\n",
    "print (model.summary()) "
   ]
  },
  {
   "cell_type": "code",
   "execution_count": 27,
   "metadata": {
    "id": "hlWZ-xVcAAP4"
   },
   "outputs": [
    {
     "name": "stdout",
     "output_type": "stream",
     "text": [
      "Epoch 1/20\n",
      "17/17 [==============================] - ETA: 0s - loss: 1.4651 - categorical_accuracy: 0.3644\n",
      "Epoch 00001: val_loss improved from inf to 1.33430, saving model to model_init5_2022-06-1513_49_48.394580/model-00001-1.46505-0.36443-1.33430-0.19167.h5\n",
      "17/17 [==============================] - 67s 4s/step - loss: 1.4651 - categorical_accuracy: 0.3644 - val_loss: 1.3343 - val_categorical_accuracy: 0.1917 - lr: 0.0010\n",
      "Epoch 2/20\n",
      "17/17 [==============================] - ETA: 0s - loss: 1.0692 - categorical_accuracy: 0.5058\n",
      "Epoch 00002: val_loss did not improve from 1.33430\n",
      "17/17 [==============================] - 67s 4s/step - loss: 1.0692 - categorical_accuracy: 0.5058 - val_loss: 1.3423 - val_categorical_accuracy: 0.2167 - lr: 0.0010\n",
      "Epoch 3/20\n",
      "17/17 [==============================] - ETA: 0s - loss: 0.9259 - categorical_accuracy: 0.5816\n",
      "Epoch 00003: val_loss improved from 1.33430 to 1.31781, saving model to model_init5_2022-06-1513_49_48.394580/model-00003-0.92587-0.58163-1.31781-0.20833.h5\n",
      "17/17 [==============================] - 64s 4s/step - loss: 0.9259 - categorical_accuracy: 0.5816 - val_loss: 1.3178 - val_categorical_accuracy: 0.2083 - lr: 0.0010\n",
      "Epoch 4/20\n",
      "17/17 [==============================] - ETA: 0s - loss: 0.7640 - categorical_accuracy: 0.6866\n",
      "Epoch 00004: val_loss improved from 1.31781 to 1.31681, saving model to model_init5_2022-06-1513_49_48.394580/model-00004-0.76399-0.68659-1.31681-0.20833.h5\n",
      "17/17 [==============================] - 69s 4s/step - loss: 0.7640 - categorical_accuracy: 0.6866 - val_loss: 1.3168 - val_categorical_accuracy: 0.2083 - lr: 0.0010\n",
      "Epoch 5/20\n",
      "17/17 [==============================] - ETA: 0s - loss: 0.7233 - categorical_accuracy: 0.6983\n",
      "Epoch 00005: val_loss did not improve from 1.31681\n",
      "17/17 [==============================] - 68s 4s/step - loss: 0.7233 - categorical_accuracy: 0.6983 - val_loss: 1.3226 - val_categorical_accuracy: 0.2167 - lr: 0.0010\n",
      "Epoch 6/20\n",
      "17/17 [==============================] - ETA: 0s - loss: 0.6690 - categorical_accuracy: 0.6895\n",
      "Epoch 00006: val_loss did not improve from 1.31681\n",
      "17/17 [==============================] - 63s 4s/step - loss: 0.6690 - categorical_accuracy: 0.6895 - val_loss: 1.3272 - val_categorical_accuracy: 0.1917 - lr: 0.0010\n",
      "Epoch 7/20\n",
      "17/17 [==============================] - ETA: 0s - loss: 0.6336 - categorical_accuracy: 0.7216\n",
      "Epoch 00007: val_loss did not improve from 1.31681\n",
      "17/17 [==============================] - 73s 5s/step - loss: 0.6336 - categorical_accuracy: 0.7216 - val_loss: 1.3640 - val_categorical_accuracy: 0.1833 - lr: 0.0010\n",
      "Epoch 8/20\n",
      "17/17 [==============================] - ETA: 0s - loss: 0.5627 - categorical_accuracy: 0.7289\n",
      "Epoch 00008: val_loss did not improve from 1.31681\n",
      "\n",
      "Epoch 00008: ReduceLROnPlateau reducing learning rate to 0.00020000000949949026.\n",
      "17/17 [==============================] - 76s 5s/step - loss: 0.5627 - categorical_accuracy: 0.7289 - val_loss: 1.3802 - val_categorical_accuracy: 0.1833 - lr: 0.0010\n",
      "Epoch 9/20\n",
      "17/17 [==============================] - ETA: 0s - loss: 0.4915 - categorical_accuracy: 0.7741\n",
      "Epoch 00009: val_loss did not improve from 1.31681\n",
      "17/17 [==============================] - 89s 6s/step - loss: 0.4915 - categorical_accuracy: 0.7741 - val_loss: 1.3552 - val_categorical_accuracy: 0.1917 - lr: 2.0000e-04\n",
      "Epoch 10/20\n",
      "17/17 [==============================] - ETA: 0s - loss: 0.4677 - categorical_accuracy: 0.7813\n",
      "Epoch 00010: val_loss did not improve from 1.31681\n",
      "17/17 [==============================] - 81s 5s/step - loss: 0.4677 - categorical_accuracy: 0.7813 - val_loss: 1.3881 - val_categorical_accuracy: 0.1833 - lr: 2.0000e-04\n",
      "Epoch 11/20\n",
      "17/17 [==============================] - ETA: 0s - loss: 0.4409 - categorical_accuracy: 0.7945\n",
      "Epoch 00011: val_loss did not improve from 1.31681\n",
      "17/17 [==============================] - 74s 5s/step - loss: 0.4409 - categorical_accuracy: 0.7945 - val_loss: 1.4338 - val_categorical_accuracy: 0.1667 - lr: 2.0000e-04\n",
      "Epoch 12/20\n",
      "17/17 [==============================] - ETA: 0s - loss: 0.4309 - categorical_accuracy: 0.8003\n",
      "Epoch 00012: val_loss did not improve from 1.31681\n",
      "\n",
      "Epoch 00012: ReduceLROnPlateau reducing learning rate to 4.0000001899898055e-05.\n",
      "17/17 [==============================] - 71s 4s/step - loss: 0.4309 - categorical_accuracy: 0.8003 - val_loss: 1.4384 - val_categorical_accuracy: 0.1833 - lr: 2.0000e-04\n",
      "Epoch 13/20\n",
      "17/17 [==============================] - ETA: 0s - loss: 0.4077 - categorical_accuracy: 0.8251\n",
      "Epoch 00013: val_loss did not improve from 1.31681\n",
      "17/17 [==============================] - 69s 4s/step - loss: 0.4077 - categorical_accuracy: 0.8251 - val_loss: 1.4738 - val_categorical_accuracy: 0.1833 - lr: 4.0000e-05\n",
      "Epoch 14/20\n",
      "17/17 [==============================] - ETA: 0s - loss: 0.3847 - categorical_accuracy: 0.8338\n",
      "Epoch 00014: val_loss did not improve from 1.31681\n",
      "17/17 [==============================] - 77s 5s/step - loss: 0.3847 - categorical_accuracy: 0.8338 - val_loss: 1.5454 - val_categorical_accuracy: 0.1583 - lr: 4.0000e-05\n",
      "Epoch 00014: early stopping\n"
     ]
    }
   ],
   "source": [
    " history=model.fit(train_generator, steps_per_epoch=steps_per_epoch, epochs=num_epochs, verbose=1, \n",
    "                    callbacks=callbacks_list, validation_data=val_generator, \n",
    "                    validation_steps=validation_steps, class_weight=None, workers=1, initial_epoch=0)"
   ]
  },
  {
   "cell_type": "code",
   "execution_count": 28,
   "metadata": {
    "id": "XAR5LVItAAP5"
   },
   "outputs": [
    {
     "data": {
      "image/png": "[encoded data removed]",
      "text/plain": [
       "<Figure size 1080x288 with 2 Axes>"
      ]
     },
     "metadata": {
      "needs_background": "light"
     },
     "output_type": "display_data"
    }
   ],
   "source": [
    " plot(history)"
   ]
  },
  {
   "cell_type": "markdown",
   "metadata": {},
   "source": [
    "### Model Conclusion\n",
    "\n",
    "#### Model Accuracy on the train set is  83% and on validation set is 15%\n",
    "#### Model is Overfitting"
   ]
  },
  {
   "cell_type": "markdown",
   "metadata": {},
   "source": [
    "### Model with Trasnfer learning"
   ]
  },
  {
   "cell_type": "markdown",
   "metadata": {
    "id": "mMVyR1_pAAP5"
   },
   "source": [
    "### Model 6: Transfer Learning (VGG16) + LSTM Model\n"
   ]
  },
  {
   "cell_type": "code",
   "execution_count": 30,
   "metadata": {
    "id": "2ZApMheVAAP5"
   },
   "outputs": [
    {
     "name": "stdout",
     "output_type": "stream",
     "text": [
      "Downloading data from https://storage.googleapis.com/tensorflow/keras-applications/vgg16/vgg16_weights_tf_dim_ordering_tf_kernels_notop.h5\n",
      "58892288/58889256 [==============================] - 2s 0us/step\n",
      "58900480/58889256 [==============================] - 2s 0us/step\n"
     ]
    }
   ],
   "source": [
    " from keras.applications.vgg16 import VGG16\n",
    " VGG16_transfer = tf.keras.applications.vgg16.VGG16(weights='imagenet', include_top=False)\n",
    " model = Sequential()\n",
    " model.add(TimeDistributed(VGG16_transfer,input_shape=input_shape))\n",
    " for layer in model.layers:\n",
    "     layer.trainable = False\n",
    "\n",
    " model.add(TimeDistributed(BatchNormalization()))\n",
    " model.add(TimeDistributed(MaxPooling2D((2, 2))))\n",
    " model.add(TimeDistributed(Flatten()))\n",
    " model.add(LSTM(128))\n",
    " model.add(Dropout(0.25))\n",
    " model.add(Dense(64,activation='relu'))\n",
    " model.add(Dropout(0.25))\n",
    "       \n",
    " model.add(Dense(5, activation='softmax'))\n",
    "\n",
    "# Total params: 15,053,509 , Trainable params: 337,797 , Non-trainable params: 14,715,712"
   ]
  },
  {
   "cell_type": "code",
   "execution_count": 31,
   "metadata": {
    "id": "cIVABOjEiDmb"
   },
   "outputs": [
    {
     "name": "stdout",
     "output_type": "stream",
     "text": [
      "Model: \"sequential_4\"\n",
      "_________________________________________________________________\n",
      " Layer (type)                Output Shape              Param #   \n",
      "=================================================================\n",
      " time_distributed_12 (TimeDi  (None, 16, 3, 3, 512)    14714688  \n",
      " stributed)                                                      \n",
      "                                                                 \n",
      " time_distributed_13 (TimeDi  (None, 16, 3, 3, 512)    2048      \n",
      " stributed)                                                      \n",
      "                                                                 \n",
      " time_distributed_14 (TimeDi  (None, 16, 1, 1, 512)    0         \n",
      " stributed)                                                      \n",
      "                                                                 \n",
      " time_distributed_15 (TimeDi  (None, 16, 512)          0         \n",
      " stributed)                                                      \n",
      "                                                                 \n",
      " lstm_1 (LSTM)               (None, 128)               328192    \n",
      "                                                                 \n",
      " dropout_14 (Dropout)        (None, 128)               0         \n",
      "                                                                 \n",
      " dense_8 (Dense)             (None, 64)                8256      \n",
      "                                                                 \n",
      " dropout_15 (Dropout)        (None, 64)                0         \n",
      "                                                                 \n",
      " dense_9 (Dense)             (None, 5)                 325       \n",
      "                                                                 \n",
      "=================================================================\n",
      "Total params: 15,053,509\n",
      "Trainable params: 337,797\n",
      "Non-trainable params: 14,715,712\n",
      "_________________________________________________________________\n",
      "None\n"
     ]
    }
   ],
   "source": [
    "\n",
    "model_name = 'model_init6' + '_' + str(curr_dt_time).replace(' ','').replace(':','_') + '/'\n",
    "    \n",
    "if not os.path.exists(model_name):\n",
    "    os.mkdir(model_name)\n",
    "        \n",
    "filepath = model_name + 'model-{epoch:05d}-{loss:.5f}-{categorical_accuracy:.5f}-{val_loss:.5f}-{val_categorical_accuracy:.5f}.h5'\n",
    "\n",
    "checkpoint = ModelCheckpoint(filepath, monitor='val_loss', verbose=1, save_best_only=True, save_weights_only=False, mode='auto', save_freq='epoch')\n",
    "\n",
    "LR =ReduceLROnPlateau(monitor='val_loss', factor=0.2, verbose=1, patience=4) # write the REducelronplateau code here\n",
    "\n",
    "earlystop = EarlyStopping( monitor=\"val_loss\", min_delta=0,patience=10,verbose=1)\n",
    "\n",
    "callbacks_list = [checkpoint, LR, earlystop]\n",
    "\n",
    "optimiser =tf.keras.optimizers.Adam() #write your optimizer\n",
    "model.compile(optimizer=optimiser, loss='categorical_crossentropy', metrics=['categorical_accuracy'])\n",
    "print (model.summary()) "
   ]
  },
  {
   "cell_type": "code",
   "execution_count": 32,
   "metadata": {
    "id": "6jaVtPr9AAP6"
   },
   "outputs": [
    {
     "name": "stdout",
     "output_type": "stream",
     "text": [
      "Epoch 1/20\n",
      "17/17 [==============================] - ETA: 0s - loss: 1.4790 - categorical_accuracy: 0.3090\n",
      "Epoch 00001: val_loss improved from inf to 1.27187, saving model to model_init6_2022-06-1513_49_48.394580/model-00001-1.47896-0.30904-1.27187-0.23333.h5\n",
      "17/17 [==============================] - 72s 4s/step - loss: 1.4790 - categorical_accuracy: 0.3090 - val_loss: 1.2719 - val_categorical_accuracy: 0.2333 - lr: 0.0010\n",
      "Epoch 2/20\n",
      "17/17 [==============================] - ETA: 0s - loss: 1.0982 - categorical_accuracy: 0.5671\n",
      "Epoch 00002: val_loss improved from 1.27187 to 1.14625, saving model to model_init6_2022-06-1513_49_48.394580/model-00002-1.09820-0.56706-1.14625-0.35833.h5\n",
      "17/17 [==============================] - 65s 4s/step - loss: 1.0982 - categorical_accuracy: 0.5671 - val_loss: 1.1462 - val_categorical_accuracy: 0.3583 - lr: 0.0010\n",
      "Epoch 3/20\n",
      "17/17 [==============================] - ETA: 0s - loss: 0.8096 - categorical_accuracy: 0.7070\n",
      "Epoch 00003: val_loss improved from 1.14625 to 0.99421, saving model to model_init6_2022-06-1513_49_48.394580/model-00003-0.80962-0.70700-0.99421-0.40833.h5\n",
      "17/17 [==============================] - 68s 4s/step - loss: 0.8096 - categorical_accuracy: 0.7070 - val_loss: 0.9942 - val_categorical_accuracy: 0.4083 - lr: 0.0010\n",
      "Epoch 4/20\n",
      "17/17 [==============================] - ETA: 0s - loss: 0.5858 - categorical_accuracy: 0.7959\n",
      "Epoch 00004: val_loss did not improve from 0.99421\n",
      "17/17 [==============================] - 64s 4s/step - loss: 0.5858 - categorical_accuracy: 0.7959 - val_loss: 0.9971 - val_categorical_accuracy: 0.4250 - lr: 0.0010\n",
      "Epoch 5/20\n",
      "17/17 [==============================] - ETA: 0s - loss: 0.3761 - categorical_accuracy: 0.8717\n",
      "Epoch 00005: val_loss improved from 0.99421 to 0.88024, saving model to model_init6_2022-06-1513_49_48.394580/model-00005-0.37607-0.87172-0.88024-0.44167.h5\n",
      "17/17 [==============================] - 69s 4s/step - loss: 0.3761 - categorical_accuracy: 0.8717 - val_loss: 0.8802 - val_categorical_accuracy: 0.4417 - lr: 0.0010\n",
      "Epoch 6/20\n",
      "17/17 [==============================] - ETA: 0s - loss: 0.2481 - categorical_accuracy: 0.9184\n",
      "Epoch 00006: val_loss did not improve from 0.88024\n",
      "17/17 [==============================] - 66s 4s/step - loss: 0.2481 - categorical_accuracy: 0.9184 - val_loss: 0.9509 - val_categorical_accuracy: 0.4667 - lr: 0.0010\n",
      "Epoch 7/20\n",
      "17/17 [==============================] - ETA: 0s - loss: 0.1728 - categorical_accuracy: 0.9329\n",
      "Epoch 00007: val_loss did not improve from 0.88024\n",
      "17/17 [==============================] - 66s 4s/step - loss: 0.1728 - categorical_accuracy: 0.9329 - val_loss: 0.8982 - val_categorical_accuracy: 0.5250 - lr: 0.0010\n",
      "Epoch 8/20\n",
      "17/17 [==============================] - ETA: 0s - loss: 0.1011 - categorical_accuracy: 0.9606\n",
      "Epoch 00008: val_loss did not improve from 0.88024\n",
      "17/17 [==============================] - 66s 4s/step - loss: 0.1011 - categorical_accuracy: 0.9606 - val_loss: 0.9670 - val_categorical_accuracy: 0.5250 - lr: 0.0010\n",
      "Epoch 9/20\n",
      "17/17 [==============================] - ETA: 0s - loss: 0.0756 - categorical_accuracy: 0.9621\n",
      "Epoch 00009: val_loss did not improve from 0.88024\n",
      "\n",
      "Epoch 00009: ReduceLROnPlateau reducing learning rate to 0.00020000000949949026.\n",
      "17/17 [==============================] - 67s 4s/step - loss: 0.0756 - categorical_accuracy: 0.9621 - val_loss: 1.1208 - val_categorical_accuracy: 0.5167 - lr: 0.0010\n",
      "Epoch 10/20\n",
      "17/17 [==============================] - ETA: 0s - loss: 0.0591 - categorical_accuracy: 0.9636\n",
      "Epoch 00010: val_loss did not improve from 0.88024\n",
      "17/17 [==============================] - 65s 4s/step - loss: 0.0591 - categorical_accuracy: 0.9636 - val_loss: 0.9288 - val_categorical_accuracy: 0.5417 - lr: 2.0000e-04\n",
      "Epoch 11/20\n",
      "17/17 [==============================] - ETA: 0s - loss: 0.0500 - categorical_accuracy: 0.9621\n",
      "Epoch 00011: val_loss improved from 0.88024 to 0.87115, saving model to model_init6_2022-06-1513_49_48.394580/model-00011-0.05001-0.96210-0.87115-0.54167.h5\n",
      "17/17 [==============================] - 65s 4s/step - loss: 0.0500 - categorical_accuracy: 0.9621 - val_loss: 0.8712 - val_categorical_accuracy: 0.5417 - lr: 2.0000e-04\n",
      "Epoch 12/20\n",
      "17/17 [==============================] - ETA: 0s - loss: 0.0542 - categorical_accuracy: 0.9577\n",
      "Epoch 00012: val_loss improved from 0.87115 to 0.67889, saving model to model_init6_2022-06-1513_49_48.394580/model-00012-0.05425-0.95773-0.67889-0.58333.h5\n",
      "17/17 [==============================] - 67s 4s/step - loss: 0.0542 - categorical_accuracy: 0.9577 - val_loss: 0.6789 - val_categorical_accuracy: 0.5833 - lr: 2.0000e-04\n",
      "Epoch 13/20\n",
      "17/17 [==============================] - ETA: 0s - loss: 0.0423 - categorical_accuracy: 0.9679\n",
      "Epoch 00013: val_loss did not improve from 0.67889\n",
      "17/17 [==============================] - 66s 4s/step - loss: 0.0423 - categorical_accuracy: 0.9679 - val_loss: 0.8354 - val_categorical_accuracy: 0.5333 - lr: 2.0000e-04\n",
      "Epoch 14/20\n",
      "17/17 [==============================] - ETA: 0s - loss: 0.0360 - categorical_accuracy: 0.9767\n",
      "Epoch 00014: val_loss did not improve from 0.67889\n",
      "17/17 [==============================] - 65s 4s/step - loss: 0.0360 - categorical_accuracy: 0.9767 - val_loss: 0.8496 - val_categorical_accuracy: 0.5667 - lr: 2.0000e-04\n",
      "Epoch 15/20\n",
      "17/17 [==============================] - ETA: 0s - loss: 0.0366 - categorical_accuracy: 0.9694\n",
      "Epoch 00015: val_loss did not improve from 0.67889\n",
      "17/17 [==============================] - 67s 4s/step - loss: 0.0366 - categorical_accuracy: 0.9694 - val_loss: 0.8657 - val_categorical_accuracy: 0.5417 - lr: 2.0000e-04\n",
      "Epoch 16/20\n",
      "17/17 [==============================] - ETA: 0s - loss: 0.0273 - categorical_accuracy: 0.9738\n",
      "Epoch 00016: val_loss did not improve from 0.67889\n",
      "\n",
      "Epoch 00016: ReduceLROnPlateau reducing learning rate to 4.0000001899898055e-05.\n",
      "17/17 [==============================] - 63s 4s/step - loss: 0.0273 - categorical_accuracy: 0.9738 - val_loss: 0.8512 - val_categorical_accuracy: 0.5750 - lr: 2.0000e-04\n",
      "Epoch 17/20\n",
      "17/17 [==============================] - ETA: 0s - loss: 0.0298 - categorical_accuracy: 0.9708\n",
      "Epoch 00017: val_loss did not improve from 0.67889\n",
      "17/17 [==============================] - 68s 4s/step - loss: 0.0298 - categorical_accuracy: 0.9708 - val_loss: 0.8671 - val_categorical_accuracy: 0.5583 - lr: 4.0000e-05\n",
      "Epoch 18/20\n",
      "17/17 [==============================] - ETA: 0s - loss: 0.0402 - categorical_accuracy: 0.9606\n",
      "Epoch 00018: val_loss did not improve from 0.67889\n",
      "17/17 [==============================] - 67s 4s/step - loss: 0.0402 - categorical_accuracy: 0.9606 - val_loss: 0.9557 - val_categorical_accuracy: 0.5167 - lr: 4.0000e-05\n",
      "Epoch 19/20\n",
      "17/17 [==============================] - ETA: 0s - loss: 0.0362 - categorical_accuracy: 0.9679\n",
      "Epoch 00019: val_loss did not improve from 0.67889\n",
      "17/17 [==============================] - 65s 4s/step - loss: 0.0362 - categorical_accuracy: 0.9679 - val_loss: 0.7392 - val_categorical_accuracy: 0.6167 - lr: 4.0000e-05\n",
      "Epoch 20/20\n",
      "17/17 [==============================] - ETA: 0s - loss: 0.0307 - categorical_accuracy: 0.9694\n",
      "Epoch 00020: val_loss did not improve from 0.67889\n",
      "\n",
      "Epoch 00020: ReduceLROnPlateau reducing learning rate to 8.000000525498762e-06.\n",
      "17/17 [==============================] - 67s 4s/step - loss: 0.0307 - categorical_accuracy: 0.9694 - val_loss: 0.8652 - val_categorical_accuracy: 0.5750 - lr: 4.0000e-05\n"
     ]
    }
   ],
   "source": [
    "history=model.fit(train_generator, steps_per_epoch=steps_per_epoch, epochs=num_epochs, verbose=1, \n",
    "                    callbacks=callbacks_list, validation_data=val_generator, \n",
    "                    validation_steps=validation_steps, class_weight=None, workers=1, initial_epoch=0)"
   ]
  },
  {
   "cell_type": "code",
   "execution_count": 33,
   "metadata": {},
   "outputs": [
    {
     "data": {
      "image/png": "[encoded data removed]",
      "text/plain": [
       "<Figure size 1080x288 with 2 Axes>"
      ]
     },
     "metadata": {
      "needs_background": "light"
     },
     "output_type": "display_data"
    }
   ],
   "source": [
    " plot(history)"
   ]
  },
  {
   "cell_type": "markdown",
   "metadata": {},
   "source": [
    "### Model Conclusion\n",
    "\n",
    "#### Model Accuracy on the train set is  96% and on validation set is 57%\n",
    "#### Model is Overfitting"
   ]
  },
  {
   "cell_type": "markdown",
   "metadata": {
    "id": "Qn9Ry5xIAAP8"
   },
   "source": [
    "### Model 7: VGG16 + GRU\n"
   ]
  },
  {
   "cell_type": "code",
   "execution_count": 35,
   "metadata": {
    "id": "6XNfPIOzAAP8"
   },
   "outputs": [],
   "source": [
    " from keras.applications.vgg16 import VGG16\n",
    " VGG16_transfer = tf.keras.applications.vgg16.VGG16(weights='imagenet', include_top=False)\n",
    " model = Sequential()\n",
    " model.add(TimeDistributed(VGG16_transfer,input_shape=input_shape))\n",
    " for layer in model.layers:\n",
    "     layer.trainable = False\n",
    "\n",
    " model.add(TimeDistributed(BatchNormalization()))\n",
    " model.add(TimeDistributed(MaxPooling2D((2, 2))))\n",
    " model.add(TimeDistributed(Flatten()))\n",
    " model.add(GRU(128))\n",
    " model.add(BatchNormalization())\n",
    " model.add(Dropout(0.25))\n",
    " model.add(Dense(64,activation='relu'))\n",
    " model.add(Dropout(0.5))\n",
    "        \n",
    " model.add(Dense(5, activation='softmax'))\n",
    "\n",
    " # Total params: 14,972,357, Trainable params: 256,389, Non-trainable params: 14,715,968\n",
    "   "
   ]
  },
  {
   "cell_type": "code",
   "execution_count": 36,
   "metadata": {
    "id": "bv9hqhKGiTvU"
   },
   "outputs": [
    {
     "name": "stdout",
     "output_type": "stream",
     "text": [
      "Model: \"sequential_5\"\n",
      "_________________________________________________________________\n",
      " Layer (type)                Output Shape              Param #   \n",
      "=================================================================\n",
      " time_distributed_16 (TimeDi  (None, 16, 3, 3, 512)    14714688  \n",
      " stributed)                                                      \n",
      "                                                                 \n",
      " time_distributed_17 (TimeDi  (None, 16, 3, 3, 512)    2048      \n",
      " stributed)                                                      \n",
      "                                                                 \n",
      " time_distributed_18 (TimeDi  (None, 16, 1, 1, 512)    0         \n",
      " stributed)                                                      \n",
      "                                                                 \n",
      " time_distributed_19 (TimeDi  (None, 16, 512)          0         \n",
      " stributed)                                                      \n",
      "                                                                 \n",
      " gru_1 (GRU)                 (None, 128)               246528    \n",
      "                                                                 \n",
      " batch_normalization_20 (Bat  (None, 128)              512       \n",
      " chNormalization)                                                \n",
      "                                                                 \n",
      " dropout_16 (Dropout)        (None, 128)               0         \n",
      "                                                                 \n",
      " dense_10 (Dense)            (None, 64)                8256      \n",
      "                                                                 \n",
      " dropout_17 (Dropout)        (None, 64)                0         \n",
      "                                                                 \n",
      " dense_11 (Dense)            (None, 5)                 325       \n",
      "                                                                 \n",
      "=================================================================\n",
      "Total params: 14,972,357\n",
      "Trainable params: 256,389\n",
      "Non-trainable params: 14,715,968\n",
      "_________________________________________________________________\n",
      "None\n"
     ]
    }
   ],
   "source": [
    "\n",
    "\n",
    "model_name = 'model_init7' + '_' + str(curr_dt_time).replace(' ','').replace(':','_') + '/'\n",
    "    \n",
    "if not os.path.exists(model_name):\n",
    "    os.mkdir(model_name)\n",
    "        \n",
    "filepath = model_name + 'model-{epoch:05d}-{loss:.5f}-{categorical_accuracy:.5f}-{val_loss:.5f}-{val_categorical_accuracy:.5f}.h5'\n",
    "\n",
    "checkpoint = ModelCheckpoint(filepath, monitor='val_loss', verbose=1, save_best_only=True, save_weights_only=False, mode='auto', save_freq='epoch')\n",
    "\n",
    "LR =ReduceLROnPlateau(monitor='val_loss', factor=0.2, verbose=1, patience=4) # write the REducelronplateau code here\n",
    "earlystop = EarlyStopping( monitor=\"val_loss\", min_delta=0,patience=10,verbose=1)\n",
    "callbacks_list = [checkpoint, LR, earlystop]\n",
    "\n",
    "optimiser =tf.keras.optimizers.Adam() #write your optimizer\n",
    "model.compile(optimizer=optimiser, loss='categorical_crossentropy', metrics=['categorical_accuracy'])\n",
    "print (model.summary()) "
   ]
  },
  {
   "cell_type": "code",
   "execution_count": 37,
   "metadata": {
    "id": "z5iRPsKoAAP9"
   },
   "outputs": [
    {
     "name": "stdout",
     "output_type": "stream",
     "text": [
      "Epoch 1/20\n",
      "17/17 [==============================] - ETA: 0s - loss: 2.1967 - categorical_accuracy: 0.2595\n",
      "Epoch 00001: val_loss improved from inf to 1.31192, saving model to model_init7_2022-06-1513_49_48.394580/model-00001-2.19666-0.25948-1.31192-0.30000.h5\n",
      "17/17 [==============================] - 72s 4s/step - loss: 2.1967 - categorical_accuracy: 0.2595 - val_loss: 1.3119 - val_categorical_accuracy: 0.3000 - lr: 0.0010\n",
      "Epoch 2/20\n",
      "17/17 [==============================] - ETA: 0s - loss: 1.4001 - categorical_accuracy: 0.4300\n",
      "Epoch 00002: val_loss improved from 1.31192 to 1.16096, saving model to model_init7_2022-06-1513_49_48.394580/model-00002-1.40010-0.43003-1.16096-0.40000.h5\n",
      "17/17 [==============================] - 65s 4s/step - loss: 1.4001 - categorical_accuracy: 0.4300 - val_loss: 1.1610 - val_categorical_accuracy: 0.4000 - lr: 0.0010\n",
      "Epoch 3/20\n",
      "17/17 [==============================] - ETA: 0s - loss: 1.0759 - categorical_accuracy: 0.5671\n",
      "Epoch 00003: val_loss improved from 1.16096 to 1.03369, saving model to model_init7_2022-06-1513_49_48.394580/model-00003-1.07595-0.56706-1.03369-0.50000.h5\n",
      "17/17 [==============================] - 64s 4s/step - loss: 1.0759 - categorical_accuracy: 0.5671 - val_loss: 1.0337 - val_categorical_accuracy: 0.5000 - lr: 0.0010\n",
      "Epoch 4/20\n",
      "17/17 [==============================] - ETA: 0s - loss: 0.8562 - categorical_accuracy: 0.6429\n",
      "Epoch 00004: val_loss improved from 1.03369 to 0.91521, saving model to model_init7_2022-06-1513_49_48.394580/model-00004-0.85622-0.64286-0.91521-0.54167.h5\n",
      "17/17 [==============================] - 66s 4s/step - loss: 0.8562 - categorical_accuracy: 0.6429 - val_loss: 0.9152 - val_categorical_accuracy: 0.5417 - lr: 0.0010\n",
      "Epoch 5/20\n",
      "17/17 [==============================] - ETA: 0s - loss: 0.8143 - categorical_accuracy: 0.6487\n",
      "Epoch 00005: val_loss improved from 0.91521 to 0.88950, saving model to model_init7_2022-06-1513_49_48.394580/model-00005-0.81433-0.64869-0.88950-0.50833.h5\n",
      "17/17 [==============================] - 64s 4s/step - loss: 0.8143 - categorical_accuracy: 0.6487 - val_loss: 0.8895 - val_categorical_accuracy: 0.5083 - lr: 0.0010\n",
      "Epoch 6/20\n",
      "17/17 [==============================] - ETA: 0s - loss: 0.5959 - categorical_accuracy: 0.7391\n",
      "Epoch 00006: val_loss improved from 0.88950 to 0.84316, saving model to model_init7_2022-06-1513_49_48.394580/model-00006-0.59594-0.73907-0.84316-0.52500.h5\n",
      "17/17 [==============================] - 64s 4s/step - loss: 0.5959 - categorical_accuracy: 0.7391 - val_loss: 0.8432 - val_categorical_accuracy: 0.5250 - lr: 0.0010\n",
      "Epoch 7/20\n",
      "17/17 [==============================] - ETA: 0s - loss: 0.4983 - categorical_accuracy: 0.7959\n",
      "Epoch 00007: val_loss improved from 0.84316 to 0.81493, saving model to model_init7_2022-06-1513_49_48.394580/model-00007-0.49832-0.79592-0.81493-0.56667.h5\n",
      "17/17 [==============================] - 65s 4s/step - loss: 0.4983 - categorical_accuracy: 0.7959 - val_loss: 0.8149 - val_categorical_accuracy: 0.5667 - lr: 0.0010\n",
      "Epoch 8/20\n",
      "17/17 [==============================] - ETA: 0s - loss: 0.4087 - categorical_accuracy: 0.8426\n",
      "Epoch 00008: val_loss improved from 0.81493 to 0.79222, saving model to model_init7_2022-06-1513_49_48.394580/model-00008-0.40875-0.84257-0.79222-0.58333.h5\n",
      "17/17 [==============================] - 62s 4s/step - loss: 0.4087 - categorical_accuracy: 0.8426 - val_loss: 0.7922 - val_categorical_accuracy: 0.5833 - lr: 0.0010\n",
      "Epoch 9/20\n",
      "17/17 [==============================] - ETA: 0s - loss: 0.3805 - categorical_accuracy: 0.8382\n",
      "Epoch 00009: val_loss improved from 0.79222 to 0.74852, saving model to model_init7_2022-06-1513_49_48.394580/model-00009-0.38048-0.83819-0.74852-0.59167.h5\n",
      "17/17 [==============================] - 67s 4s/step - loss: 0.3805 - categorical_accuracy: 0.8382 - val_loss: 0.7485 - val_categorical_accuracy: 0.5917 - lr: 0.0010\n",
      "Epoch 10/20\n",
      "17/17 [==============================] - ETA: 0s - loss: 0.3119 - categorical_accuracy: 0.8703\n",
      "Epoch 00010: val_loss did not improve from 0.74852\n",
      "17/17 [==============================] - 67s 4s/step - loss: 0.3119 - categorical_accuracy: 0.8703 - val_loss: 0.7614 - val_categorical_accuracy: 0.5583 - lr: 0.0010\n",
      "Epoch 11/20\n",
      "17/17 [==============================] - ETA: 0s - loss: 0.2959 - categorical_accuracy: 0.8586\n",
      "Epoch 00011: val_loss improved from 0.74852 to 0.66380, saving model to model_init7_2022-06-1513_49_48.394580/model-00011-0.29591-0.85860-0.66380-0.62500.h5\n",
      "17/17 [==============================] - 68s 4s/step - loss: 0.2959 - categorical_accuracy: 0.8586 - val_loss: 0.6638 - val_categorical_accuracy: 0.6250 - lr: 0.0010\n",
      "Epoch 12/20\n",
      "17/17 [==============================] - ETA: 0s - loss: 0.2510 - categorical_accuracy: 0.8936\n",
      "Epoch 00012: val_loss did not improve from 0.66380\n",
      "17/17 [==============================] - 63s 4s/step - loss: 0.2510 - categorical_accuracy: 0.8936 - val_loss: 0.6987 - val_categorical_accuracy: 0.7083 - lr: 0.0010\n",
      "Epoch 13/20\n",
      "17/17 [==============================] - ETA: 0s - loss: 0.1863 - categorical_accuracy: 0.9198\n",
      "Epoch 00013: val_loss did not improve from 0.66380\n",
      "17/17 [==============================] - 67s 4s/step - loss: 0.1863 - categorical_accuracy: 0.9198 - val_loss: 0.7233 - val_categorical_accuracy: 0.5333 - lr: 0.0010\n",
      "Epoch 14/20\n",
      "17/17 [==============================] - ETA: 0s - loss: 0.1624 - categorical_accuracy: 0.9111\n",
      "Epoch 00014: val_loss did not improve from 0.66380\n",
      "17/17 [==============================] - 68s 4s/step - loss: 0.1624 - categorical_accuracy: 0.9111 - val_loss: 0.7565 - val_categorical_accuracy: 0.5417 - lr: 0.0010\n",
      "Epoch 15/20\n",
      "17/17 [==============================] - ETA: 0s - loss: 0.1501 - categorical_accuracy: 0.9359\n",
      "Epoch 00015: val_loss did not improve from 0.66380\n",
      "\n",
      "Epoch 00015: ReduceLROnPlateau reducing learning rate to 0.00020000000949949026.\n",
      "17/17 [==============================] - 69s 4s/step - loss: 0.1501 - categorical_accuracy: 0.9359 - val_loss: 0.7333 - val_categorical_accuracy: 0.7417 - lr: 0.0010\n",
      "Epoch 16/20\n",
      "17/17 [==============================] - ETA: 0s - loss: 0.1069 - categorical_accuracy: 0.9475\n",
      "Epoch 00016: val_loss did not improve from 0.66380\n",
      "17/17 [==============================] - 70s 4s/step - loss: 0.1069 - categorical_accuracy: 0.9475 - val_loss: 0.7200 - val_categorical_accuracy: 0.7500 - lr: 2.0000e-04\n",
      "Epoch 17/20\n",
      "17/17 [==============================] - ETA: 0s - loss: 0.1390 - categorical_accuracy: 0.9286\n",
      "Epoch 00017: val_loss did not improve from 0.66380\n",
      "17/17 [==============================] - 62s 4s/step - loss: 0.1390 - categorical_accuracy: 0.9286 - val_loss: 0.7160 - val_categorical_accuracy: 0.5667 - lr: 2.0000e-04\n",
      "Epoch 18/20\n",
      "17/17 [==============================] - ETA: 0s - loss: 0.1168 - categorical_accuracy: 0.9417\n",
      "Epoch 00018: val_loss did not improve from 0.66380\n",
      "17/17 [==============================] - 66s 4s/step - loss: 0.1168 - categorical_accuracy: 0.9417 - val_loss: 0.7318 - val_categorical_accuracy: 0.5667 - lr: 2.0000e-04\n",
      "Epoch 19/20\n",
      "17/17 [==============================] - ETA: 0s - loss: 0.0945 - categorical_accuracy: 0.9475\n",
      "Epoch 00019: val_loss did not improve from 0.66380\n",
      "\n",
      "Epoch 00019: ReduceLROnPlateau reducing learning rate to 4.0000001899898055e-05.\n",
      "17/17 [==============================] - 67s 4s/step - loss: 0.0945 - categorical_accuracy: 0.9475 - val_loss: 0.7325 - val_categorical_accuracy: 0.5667 - lr: 2.0000e-04\n",
      "Epoch 20/20\n",
      "17/17 [==============================] - ETA: 0s - loss: 0.1362 - categorical_accuracy: 0.9198\n",
      "Epoch 00020: val_loss did not improve from 0.66380\n",
      "17/17 [==============================] - 67s 4s/step - loss: 0.1362 - categorical_accuracy: 0.9198 - val_loss: 0.8164 - val_categorical_accuracy: 0.5167 - lr: 4.0000e-05\n"
     ]
    }
   ],
   "source": [
    "history=model.fit(train_generator, steps_per_epoch=steps_per_epoch, epochs=num_epochs, verbose=1, \n",
    "                     callbacks=callbacks_list, validation_data=val_generator, \n",
    "                     validation_steps=validation_steps, class_weight=None, workers=1, initial_epoch=0)"
   ]
  },
  {
   "cell_type": "code",
   "execution_count": 38,
   "metadata": {
    "id": "aPlSjDDYAAP9"
   },
   "outputs": [
    {
     "data": {
      "image/png": "[encoded data removed]",
      "text/plain": [
       "<Figure size 1080x288 with 2 Axes>"
      ]
     },
     "metadata": {
      "needs_background": "light"
     },
     "output_type": "display_data"
    }
   ],
   "source": [
    " plot(history)"
   ]
  },
  {
   "cell_type": "markdown",
   "metadata": {},
   "source": [
    "### Model Conclusion\n",
    "\n",
    "#### Model Accuracy on the train set is  94% and on validation set is 75%\n",
    "#### Model is Overfitting"
   ]
  },
  {
   "cell_type": "markdown",
   "metadata": {
    "id": "IGIS5BWKAAP9"
   },
   "source": [
    "## Final Model\n",
    "### Model 8: TransferLearning(Mobilenet) + GRU Model"
   ]
  },
  {
   "cell_type": "code",
   "execution_count": 40,
   "metadata": {
    "id": "K26tmkGuAAP-"
   },
   "outputs": [
    {
     "name": "stdout",
     "output_type": "stream",
     "text": [
      "WARNING:tensorflow:`input_shape` is undefined or non-square, or `rows` is not in [128, 160, 192, 224]. Weights for input shape (224, 224) will be loaded as the default.\n",
      "Downloading data from https://storage.googleapis.com/tensorflow/keras-applications/mobilenet/mobilenet_1_0_224_tf_no_top.h5\n",
      "17227776/17225924 [==============================] - 1s 0us/step\n",
      "17235968/17225924 [==============================] - 1s 0us/step\n"
     ]
    }
   ],
   "source": [
    "from keras.applications import mobilenet\n",
    "\n",
    "mobilenet_transfer = mobilenet.MobileNet(weights='imagenet', include_top=False)\n",
    "\n",
    "model = Sequential()\n",
    "model.add(TimeDistributed(mobilenet_transfer,input_shape=input_shape))\n",
    " \n",
    "model.add(TimeDistributed(BatchNormalization()))\n",
    "model.add(TimeDistributed(MaxPooling2D((2, 2))))\n",
    "model.add(TimeDistributed(Flatten()))\n",
    "\n",
    "model.add(GRU(128))\n",
    "model.add(Dropout(0.25))\n",
    "        \n",
    "model.add(Dense(128,activation='relu'))\n",
    "model.add(Dropout(0.25))\n",
    "        \n",
    "model.add(Dense(5, activation='softmax'))\n",
    "\n",
    "# Total params: 20,900,613, Trainable params: 20,897,669 , Non-trainable params: 2,944"
   ]
  },
  {
   "cell_type": "markdown",
   "metadata": {
    "id": "sWM2HEhlAAP-"
   },
   "source": [
    "### Compile \n",
    "After the model creation, the next step is to `compile` the model. In`summary` of the model, we'll see the total number of parameters to train."
   ]
  },
  {
   "cell_type": "code",
   "execution_count": 41,
   "metadata": {
    "id": "aq0Rs5vhAAP-"
   },
   "outputs": [
    {
     "name": "stdout",
     "output_type": "stream",
     "text": [
      "Model: \"sequential_6\"\n",
      "_________________________________________________________________\n",
      " Layer (type)                Output Shape              Param #   \n",
      "=================================================================\n",
      " time_distributed_20 (TimeDi  (None, 16, 3, 3, 1024)   3228864   \n",
      " stributed)                                                      \n",
      "                                                                 \n",
      " time_distributed_21 (TimeDi  (None, 16, 3, 3, 1024)   4096      \n",
      " stributed)                                                      \n",
      "                                                                 \n",
      " time_distributed_22 (TimeDi  (None, 16, 1, 1, 1024)   0         \n",
      " stributed)                                                      \n",
      "                                                                 \n",
      " time_distributed_23 (TimeDi  (None, 16, 1024)         0         \n",
      " stributed)                                                      \n",
      "                                                                 \n",
      " gru_2 (GRU)                 (None, 128)               443136    \n",
      "                                                                 \n",
      " dropout_18 (Dropout)        (None, 128)               0         \n",
      "                                                                 \n",
      " dense_12 (Dense)            (None, 128)               16512     \n",
      "                                                                 \n",
      " dropout_19 (Dropout)        (None, 128)               0         \n",
      "                                                                 \n",
      " dense_13 (Dense)            (None, 5)                 645       \n",
      "                                                                 \n",
      "=================================================================\n",
      "Total params: 3,693,253\n",
      "Trainable params: 3,669,317\n",
      "Non-trainable params: 23,936\n",
      "_________________________________________________________________\n",
      "None\n"
     ]
    }
   ],
   "source": [
    "optimiser =tf.keras.optimizers.Adam() #write your optimizer\n",
    "model.compile(optimizer=optimiser, loss='categorical_crossentropy', metrics=['categorical_accuracy'])\n",
    "print (model.summary())"
   ]
  },
  {
   "cell_type": "code",
   "execution_count": 42,
   "metadata": {
    "id": "OCSx1FzdAAP-"
   },
   "outputs": [],
   "source": [
    "# creating the `train_generator` and the `val_generator` which is used in `.fit_generator`.\n",
    "\n",
    "train_generator = generator(train_path, train_doc, batch_size)\n",
    "val_generator = generator(val_path, val_doc, batch_size)"
   ]
  },
  {
   "cell_type": "code",
   "execution_count": 43,
   "metadata": {
    "id": "YybR_MSlAAP_"
   },
   "outputs": [],
   "source": [
    "model_name = 'model_init8' + '_' + str(curr_dt_time).replace(' ','').replace(':','_') + '/'\n",
    "    \n",
    "if not os.path.exists(model_name):\n",
    "    os.mkdir(model_name)\n",
    "        \n",
    "filepath = model_name + 'model-{epoch:05d}-{loss:.5f}-{categorical_accuracy:.5f}-{val_loss:.5f}-{val_categorical_accuracy:.5f}.h5'\n",
    "\n",
    "checkpoint = ModelCheckpoint(filepath, monitor='val_loss', verbose=1, save_best_only=True, save_weights_only=False, mode='auto', save_freq='epoch')\n",
    "\n",
    "LR =ReduceLROnPlateau(monitor='val_loss', factor=0.2, verbose=1, patience=4) # write the REducelronplateau code here\n",
    "\n",
    "earlystop = EarlyStopping( monitor=\"val_loss\", min_delta=0,patience=10,verbose=1)\n",
    "\n",
    "callbacks_list = [checkpoint, LR, earlystop]"
   ]
  },
  {
   "cell_type": "markdown",
   "metadata": {
    "id": "ukoHH_CwAAP_"
   },
   "source": [
    "The `steps_per_epoch` and `validation_steps` are used by `fit_generator` to decide the number of next() calls it need to make."
   ]
  },
  {
   "cell_type": "code",
   "execution_count": 44,
   "metadata": {
    "id": "NDR4SI3GAAP_"
   },
   "outputs": [],
   "source": [
    "if (num_train_sequences%batch_size) == 0:\n",
    "    steps_per_epoch = int(num_train_sequences/batch_size)\n",
    "else:\n",
    "    steps_per_epoch = (num_train_sequences//batch_size) + 1\n",
    "\n",
    "if (num_val_sequences%batch_size) == 0:\n",
    "    validation_steps = int(num_val_sequences/batch_size)\n",
    "else:\n",
    "    validation_steps = (num_val_sequences//batch_size) + 1"
   ]
  },
  {
   "cell_type": "markdown",
   "metadata": {
    "id": "bcKIHZiPAAQA"
   },
   "source": [
    "### Fit Model\n",
    "\n",
    "Now fit the model. This will start training the model and with the help of the checkpoints, we'll be able to save the model at the end of each epoch."
   ]
  },
  {
   "cell_type": "code",
   "execution_count": 45,
   "metadata": {
    "id": "SiUAAV1NAAQA"
   },
   "outputs": [
    {
     "name": "stdout",
     "output_type": "stream",
     "text": [
      "Source path =  /home/datasets/Project_data/train ; batch size = 40\n",
      "Epoch 1/20\n",
      "17/17 [==============================] - ETA: 0s - loss: 1.1842 - categorical_accuracy: 0.5146Source path =  /home/datasets/Project_data/val ; batch size = 40\n",
      "\n",
      "Epoch 00001: val_loss improved from inf to 1.01657, saving model to model_init8_2022-06-1513_49_48.394580/model-00001-1.18418-0.51458-1.01657-0.56667.h5\n",
      "17/17 [==============================] - 73s 4s/step - loss: 1.1842 - categorical_accuracy: 0.5146 - val_loss: 1.0166 - val_categorical_accuracy: 0.5667 - lr: 0.0010\n",
      "Epoch 2/20\n",
      "17/17 [==============================] - ETA: 0s - loss: 0.3466 - categorical_accuracy: 0.8528\n",
      "Epoch 00002: val_loss improved from 1.01657 to 0.52674, saving model to model_init8_2022-06-1513_49_48.394580/model-00002-0.34661-0.85277-0.52674-0.67500.h5\n",
      "17/17 [==============================] - 69s 4s/step - loss: 0.3466 - categorical_accuracy: 0.8528 - val_loss: 0.5267 - val_categorical_accuracy: 0.6750 - lr: 0.0010\n",
      "Epoch 3/20\n",
      "17/17 [==============================] - ETA: 0s - loss: 0.1452 - categorical_accuracy: 0.9227\n",
      "Epoch 00003: val_loss improved from 0.52674 to 0.46427, saving model to model_init8_2022-06-1513_49_48.394580/model-00003-0.14521-0.92274-0.46427-0.61667.h5\n",
      "17/17 [==============================] - 66s 4s/step - loss: 0.1452 - categorical_accuracy: 0.9227 - val_loss: 0.4643 - val_categorical_accuracy: 0.6167 - lr: 0.0010\n",
      "Epoch 4/20\n",
      "17/17 [==============================] - ETA: 0s - loss: 0.0650 - categorical_accuracy: 0.9475\n",
      "Epoch 00004: val_loss did not improve from 0.46427\n",
      "17/17 [==============================] - 67s 4s/step - loss: 0.0650 - categorical_accuracy: 0.9475 - val_loss: 0.5503 - val_categorical_accuracy: 0.6167 - lr: 0.0010\n",
      "Epoch 5/20\n",
      "17/17 [==============================] - ETA: 0s - loss: 0.0770 - categorical_accuracy: 0.9548\n",
      "Epoch 00005: val_loss improved from 0.46427 to 0.44785, saving model to model_init8_2022-06-1513_49_48.394580/model-00005-0.07701-0.95481-0.44785-0.88333.h5\n",
      "17/17 [==============================] - 66s 4s/step - loss: 0.0770 - categorical_accuracy: 0.9548 - val_loss: 0.4478 - val_categorical_accuracy: 0.8833 - lr: 0.0010\n",
      "Epoch 6/20\n",
      "17/17 [==============================] - ETA: 0s - loss: 0.0408 - categorical_accuracy: 0.9534\n",
      "Epoch 00006: val_loss improved from 0.44785 to 0.16262, saving model to model_init8_2022-06-1513_49_48.394580/model-00006-0.04076-0.95335-0.16262-0.77500.h5\n",
      "17/17 [==============================] - 65s 4s/step - loss: 0.0408 - categorical_accuracy: 0.9534 - val_loss: 0.1626 - val_categorical_accuracy: 0.7750 - lr: 0.0010\n",
      "Epoch 7/20\n",
      "17/17 [==============================] - ETA: 0s - loss: 0.0215 - categorical_accuracy: 0.9708\n",
      "Epoch 00007: val_loss did not improve from 0.16262\n",
      "17/17 [==============================] - 66s 4s/step - loss: 0.0215 - categorical_accuracy: 0.9708 - val_loss: 0.2923 - val_categorical_accuracy: 0.9083 - lr: 0.0010\n",
      "Epoch 8/20\n",
      "17/17 [==============================] - ETA: 0s - loss: 0.0396 - categorical_accuracy: 0.9665\n",
      "Epoch 00008: val_loss did not improve from 0.16262\n",
      "17/17 [==============================] - 66s 4s/step - loss: 0.0396 - categorical_accuracy: 0.9665 - val_loss: 0.2671 - val_categorical_accuracy: 0.9333 - lr: 0.0010\n",
      "Epoch 9/20\n",
      "17/17 [==============================] - ETA: 0s - loss: 0.0433 - categorical_accuracy: 0.9577\n",
      "Epoch 00009: val_loss did not improve from 0.16262\n",
      "17/17 [==============================] - 67s 4s/step - loss: 0.0433 - categorical_accuracy: 0.9577 - val_loss: 0.7249 - val_categorical_accuracy: 0.8667 - lr: 0.0010\n",
      "Epoch 10/20\n",
      "17/17 [==============================] - ETA: 0s - loss: 0.0227 - categorical_accuracy: 0.9665\n",
      "Epoch 00010: val_loss did not improve from 0.16262\n",
      "\n",
      "Epoch 00010: ReduceLROnPlateau reducing learning rate to 0.00020000000949949026.\n",
      "17/17 [==============================] - 67s 4s/step - loss: 0.0227 - categorical_accuracy: 0.9665 - val_loss: 0.2627 - val_categorical_accuracy: 0.9250 - lr: 0.0010\n",
      "Epoch 11/20\n",
      "17/17 [==============================] - ETA: 0s - loss: 0.0074 - categorical_accuracy: 0.9679\n",
      "Epoch 00011: val_loss improved from 0.16262 to 0.14819, saving model to model_init8_2022-06-1513_49_48.394580/model-00011-0.00736-0.96793-0.14819-0.93333.h5\n",
      "17/17 [==============================] - 65s 4s/step - loss: 0.0074 - categorical_accuracy: 0.9679 - val_loss: 0.1482 - val_categorical_accuracy: 0.9333 - lr: 2.0000e-04\n",
      "Epoch 12/20\n",
      "17/17 [==============================] - ETA: 0s - loss: 0.0040 - categorical_accuracy: 0.9752\n",
      "Epoch 00012: val_loss improved from 0.14819 to 0.11598, saving model to model_init8_2022-06-1513_49_48.394580/model-00012-0.00401-0.97522-0.11598-0.95000.h5\n",
      "17/17 [==============================] - 65s 4s/step - loss: 0.0040 - categorical_accuracy: 0.9752 - val_loss: 0.1160 - val_categorical_accuracy: 0.9500 - lr: 2.0000e-04\n",
      "Epoch 13/20\n",
      "17/17 [==============================] - ETA: 0s - loss: 0.0061 - categorical_accuracy: 0.9738\n",
      "Epoch 00013: val_loss improved from 0.11598 to 0.11177, saving model to model_init8_2022-06-1513_49_48.394580/model-00013-0.00608-0.97376-0.11177-0.97500.h5\n",
      "17/17 [==============================] - 67s 4s/step - loss: 0.0061 - categorical_accuracy: 0.9738 - val_loss: 0.1118 - val_categorical_accuracy: 0.9750 - lr: 2.0000e-04\n",
      "Epoch 14/20\n",
      "17/17 [==============================] - ETA: 0s - loss: 0.0053 - categorical_accuracy: 0.9723\n",
      "Epoch 00014: val_loss improved from 0.11177 to 0.10483, saving model to model_init8_2022-06-1513_49_48.394580/model-00014-0.00533-0.97230-0.10483-0.97500.h5\n",
      "17/17 [==============================] - 67s 4s/step - loss: 0.0053 - categorical_accuracy: 0.9723 - val_loss: 0.1048 - val_categorical_accuracy: 0.9750 - lr: 2.0000e-04\n",
      "Epoch 15/20\n",
      "17/17 [==============================] - ETA: 0s - loss: 0.0030 - categorical_accuracy: 0.9767\n",
      "Epoch 00015: val_loss did not improve from 0.10483\n",
      "17/17 [==============================] - 64s 4s/step - loss: 0.0030 - categorical_accuracy: 0.9767 - val_loss: 0.1082 - val_categorical_accuracy: 0.9750 - lr: 2.0000e-04\n",
      "Epoch 16/20\n",
      "17/17 [==============================] - ETA: 0s - loss: 0.0111 - categorical_accuracy: 0.9679\n",
      "Epoch 00016: val_loss did not improve from 0.10483\n",
      "17/17 [==============================] - 66s 4s/step - loss: 0.0111 - categorical_accuracy: 0.9679 - val_loss: 0.1072 - val_categorical_accuracy: 0.9750 - lr: 2.0000e-04\n",
      "Epoch 17/20\n",
      "17/17 [==============================] - ETA: 0s - loss: 0.0036 - categorical_accuracy: 0.9694\n",
      "Epoch 00017: val_loss improved from 0.10483 to 0.08471, saving model to model_init8_2022-06-1513_49_48.394580/model-00017-0.00357-0.96939-0.08471-0.98333.h5\n",
      "17/17 [==============================] - 67s 4s/step - loss: 0.0036 - categorical_accuracy: 0.9694 - val_loss: 0.0847 - val_categorical_accuracy: 0.9833 - lr: 2.0000e-04\n",
      "Epoch 18/20\n",
      "17/17 [==============================] - ETA: 0s - loss: 0.0111 - categorical_accuracy: 0.9738\n",
      "Epoch 00018: val_loss did not improve from 0.08471\n",
      "17/17 [==============================] - 65s 4s/step - loss: 0.0111 - categorical_accuracy: 0.9738 - val_loss: 0.1229 - val_categorical_accuracy: 0.9750 - lr: 2.0000e-04\n",
      "Epoch 19/20\n",
      "17/17 [==============================] - ETA: 0s - loss: 0.0033 - categorical_accuracy: 0.9708\n",
      "Epoch 00019: val_loss did not improve from 0.08471\n",
      "17/17 [==============================] - 66s 4s/step - loss: 0.0033 - categorical_accuracy: 0.9708 - val_loss: 0.1169 - val_categorical_accuracy: 0.9750 - lr: 2.0000e-04\n",
      "Epoch 20/20\n",
      "17/17 [==============================] - ETA: 0s - loss: 0.0033 - categorical_accuracy: 0.9767\n",
      "Epoch 00020: val_loss improved from 0.08471 to 0.07225, saving model to model_init8_2022-06-1513_49_48.394580/model-00020-0.00332-0.97668-0.07225-0.99167.h5\n",
      "17/17 [==============================] - 66s 4s/step - loss: 0.0033 - categorical_accuracy: 0.9767 - val_loss: 0.0723 - val_categorical_accuracy: 0.9917 - lr: 2.0000e-04\n"
     ]
    }
   ],
   "source": [
    "history=model.fit(train_generator, steps_per_epoch=steps_per_epoch, epochs=num_epochs, verbose=1, \n",
    "                    callbacks=callbacks_list, validation_data=val_generator, \n",
    "                    validation_steps=validation_steps, class_weight=None, workers=1, initial_epoch=0)"
   ]
  },
  {
   "cell_type": "markdown",
   "metadata": {
    "id": "FSHw6cyqAAQA"
   },
   "source": [
    "### Plot graph"
   ]
  },
  {
   "cell_type": "code",
   "execution_count": 46,
   "metadata": {
    "id": "xj0aqS7iAAQA"
   },
   "outputs": [
    {
     "data": {
      "image/png": "[encoded data removed]",
      "text/plain": [
       "<Figure size 1080x288 with 2 Axes>"
      ]
     },
     "metadata": {
      "needs_background": "light"
     },
     "output_type": "display_data"
    }
   ],
   "source": [
    "plot(history)"
   ]
  },
  {
   "cell_type": "markdown",
   "metadata": {},
   "source": [
    "### Model Conclusion\n",
    "\n",
    "#### Model Accuracy on the train set is  97% and on validation set is 99%\n",
    "#### Model is Overfitting"
   ]
  }
 ],
 "metadata": {
  "accelerator": "GPU",
  "colab": {
   "include_colab_link": true,
   "name": "Gesture_Recognition.ipynb",
   "provenance": [],
   "toc_visible": true
  },
  "gpuClass": "standard",
  "kernelspec": {
   "display_name": "Python 3 (ipykernel)",
   "language": "python",
   "name": "python3"
  },
  "language_info": {
   "codemirror_mode": {
    "name": "ipython",
    "version": 3
   },
   "file_extension": ".py",
   "mimetype": "text/x-python",
   "name": "python",
   "nbconvert_exporter": "python",
   "pygments_lexer": "ipython3",
   "version": "3.8.10"
  }
 },
 "nbformat": 4,
 "nbformat_minor": 4
}
